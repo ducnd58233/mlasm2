{
 "cells": [
  {
   "cell_type": "code",
   "execution_count": 1,
   "metadata": {},
   "outputs": [
    {
     "name": "stderr",
     "output_type": "stream",
     "text": [
      "c:\\Users\\Admin\\anaconda3\\envs\\mlasm2\\lib\\site-packages\\tqdm\\auto.py:22: TqdmWarning: IProgress not found. Please update jupyter and ipywidgets. See https://ipywidgets.readthedocs.io/en/stable/user_install.html\n",
      "  from .autonotebook import tqdm as notebook_tqdm\n"
     ]
    }
   ],
   "source": [
    "import numpy as np\n",
    "import matplotlib.pyplot as plt\n",
    "from sklearn.model_selection import train_test_split\n",
    "import pandas as pd\n",
    "import os, sys\n",
    "import random\n",
    "\n",
    "import torch\n",
    "import torch.nn as nn\n",
    "from torch.utils.data import Dataset, DataLoader\n",
    "import torch.optim as optim\n",
    "import torch.nn.functional as F"
   ]
  },
  {
   "cell_type": "code",
   "execution_count": 2,
   "metadata": {},
   "outputs": [],
   "source": [
    "SEED = 1234\n",
    "random.seed(SEED)\n",
    "np.random.seed(SEED)\n",
    "torch.manual_seed(SEED)\n",
    "torch.cuda.manual_seed(SEED)\n",
    "torch.backends.cudnn.deterministic = True"
   ]
  },
  {
   "cell_type": "code",
   "execution_count": 3,
   "metadata": {},
   "outputs": [
    {
     "data": {
      "text/html": [
       "<div>\n",
       "<style scoped>\n",
       "    .dataframe tbody tr th:only-of-type {\n",
       "        vertical-align: middle;\n",
       "    }\n",
       "\n",
       "    .dataframe tbody tr th {\n",
       "        vertical-align: top;\n",
       "    }\n",
       "\n",
       "    .dataframe thead th {\n",
       "        text-align: right;\n",
       "    }\n",
       "</style>\n",
       "<table border=\"1\" class=\"dataframe\">\n",
       "  <thead>\n",
       "    <tr style=\"text-align: right;\">\n",
       "      <th></th>\n",
       "      <th>InstanceID</th>\n",
       "      <th>patientID</th>\n",
       "      <th>ImageName</th>\n",
       "      <th>cellTypeName</th>\n",
       "      <th>cellType</th>\n",
       "      <th>isCancerous</th>\n",
       "    </tr>\n",
       "  </thead>\n",
       "  <tbody>\n",
       "    <tr>\n",
       "      <th>0</th>\n",
       "      <td>22405</td>\n",
       "      <td>1</td>\n",
       "      <td>22405.png</td>\n",
       "      <td>fibroblast</td>\n",
       "      <td>0.0</td>\n",
       "      <td>0</td>\n",
       "    </tr>\n",
       "    <tr>\n",
       "      <th>1</th>\n",
       "      <td>22406</td>\n",
       "      <td>1</td>\n",
       "      <td>22406.png</td>\n",
       "      <td>fibroblast</td>\n",
       "      <td>0.0</td>\n",
       "      <td>0</td>\n",
       "    </tr>\n",
       "    <tr>\n",
       "      <th>2</th>\n",
       "      <td>22407</td>\n",
       "      <td>1</td>\n",
       "      <td>22407.png</td>\n",
       "      <td>fibroblast</td>\n",
       "      <td>0.0</td>\n",
       "      <td>0</td>\n",
       "    </tr>\n",
       "    <tr>\n",
       "      <th>3</th>\n",
       "      <td>22408</td>\n",
       "      <td>1</td>\n",
       "      <td>22408.png</td>\n",
       "      <td>fibroblast</td>\n",
       "      <td>0.0</td>\n",
       "      <td>0</td>\n",
       "    </tr>\n",
       "    <tr>\n",
       "      <th>4</th>\n",
       "      <td>22409</td>\n",
       "      <td>1</td>\n",
       "      <td>22409.png</td>\n",
       "      <td>fibroblast</td>\n",
       "      <td>0.0</td>\n",
       "      <td>0</td>\n",
       "    </tr>\n",
       "    <tr>\n",
       "      <th>...</th>\n",
       "      <td>...</td>\n",
       "      <td>...</td>\n",
       "      <td>...</td>\n",
       "      <td>...</td>\n",
       "      <td>...</td>\n",
       "      <td>...</td>\n",
       "    </tr>\n",
       "    <tr>\n",
       "      <th>10379</th>\n",
       "      <td>20028</td>\n",
       "      <td>99</td>\n",
       "      <td>20028.png</td>\n",
       "      <td>NaN</td>\n",
       "      <td>NaN</td>\n",
       "      <td>0</td>\n",
       "    </tr>\n",
       "    <tr>\n",
       "      <th>10380</th>\n",
       "      <td>20029</td>\n",
       "      <td>99</td>\n",
       "      <td>20029.png</td>\n",
       "      <td>NaN</td>\n",
       "      <td>NaN</td>\n",
       "      <td>0</td>\n",
       "    </tr>\n",
       "    <tr>\n",
       "      <th>10381</th>\n",
       "      <td>20030</td>\n",
       "      <td>99</td>\n",
       "      <td>20030.png</td>\n",
       "      <td>NaN</td>\n",
       "      <td>NaN</td>\n",
       "      <td>0</td>\n",
       "    </tr>\n",
       "    <tr>\n",
       "      <th>10382</th>\n",
       "      <td>20031</td>\n",
       "      <td>99</td>\n",
       "      <td>20031.png</td>\n",
       "      <td>NaN</td>\n",
       "      <td>NaN</td>\n",
       "      <td>0</td>\n",
       "    </tr>\n",
       "    <tr>\n",
       "      <th>10383</th>\n",
       "      <td>20032</td>\n",
       "      <td>99</td>\n",
       "      <td>20032.png</td>\n",
       "      <td>NaN</td>\n",
       "      <td>NaN</td>\n",
       "      <td>0</td>\n",
       "    </tr>\n",
       "  </tbody>\n",
       "</table>\n",
       "<p>20280 rows × 6 columns</p>\n",
       "</div>"
      ],
      "text/plain": [
       "       InstanceID  patientID  ImageName cellTypeName  cellType  isCancerous\n",
       "0           22405          1  22405.png   fibroblast       0.0            0\n",
       "1           22406          1  22406.png   fibroblast       0.0            0\n",
       "2           22407          1  22407.png   fibroblast       0.0            0\n",
       "3           22408          1  22408.png   fibroblast       0.0            0\n",
       "4           22409          1  22409.png   fibroblast       0.0            0\n",
       "...           ...        ...        ...          ...       ...          ...\n",
       "10379       20028         99  20028.png          NaN       NaN            0\n",
       "10380       20029         99  20029.png          NaN       NaN            0\n",
       "10381       20030         99  20030.png          NaN       NaN            0\n",
       "10382       20031         99  20031.png          NaN       NaN            0\n",
       "10383       20032         99  20032.png          NaN       NaN            0\n",
       "\n",
       "[20280 rows x 6 columns]"
      ]
     },
     "execution_count": 3,
     "metadata": {},
     "output_type": "execute_result"
    }
   ],
   "source": [
    "main = pd.read_csv('data_labels_mainData.csv')\n",
    "extra = pd.read_csv('data_labels_extraData.csv')\n",
    "data_merged = pd.concat([main, extra], axis=0)\n",
    "data_merged"
   ]
  },
  {
   "cell_type": "code",
   "execution_count": 4,
   "metadata": {},
   "outputs": [],
   "source": [
    "LEARNING_RATE = 1e-4\n",
    "TRAIN_BATCH_SIZE = 64\n",
    "VAL_BATCH_SIZE = 64\n",
    "NUM_WORKERS = 4\n",
    "EPOCHS = 10\n",
    "NUM_CLASSES = len(data_merged['isCancerous'].unique())\n",
    "IN_CHANNELS = 3\n",
    "DEVICE = torch.device(\"cuda\") if torch.cuda.is_available() else torch.device(\"cpu\")\n"
   ]
  },
  {
   "cell_type": "code",
   "execution_count": 5,
   "metadata": {},
   "outputs": [],
   "source": [
    "train_imgs, val_imgs = train_test_split(data_merged, test_size=0.2)"
   ]
  },
  {
   "cell_type": "code",
   "execution_count": 6,
   "metadata": {},
   "outputs": [],
   "source": [
    "from utils.MyDataset import MyDataset\n",
    "\n",
    "train_dataset = MyDataset(train_imgs, 'isCancerous')\n",
    "val_dataset = MyDataset(val_imgs, 'isCancerous')\n",
    "\n",
    "train_loader = DataLoader(\n",
    "    dataset = train_dataset,\n",
    "    num_workers = NUM_WORKERS,\n",
    "    batch_size = TRAIN_BATCH_SIZE,\n",
    "    shuffle = True\n",
    ")\n",
    "\n",
    "val_loader = DataLoader(\n",
    "    dataset = val_dataset,\n",
    "    num_workers = NUM_WORKERS,\n",
    "    batch_size = VAL_BATCH_SIZE,\n",
    "    shuffle = True\n",
    ")"
   ]
  },
  {
   "cell_type": "code",
   "execution_count": 7,
   "metadata": {},
   "outputs": [
    {
     "name": "stdout",
     "output_type": "stream",
     "text": [
      "Epoch 1:\n"
     ]
    },
    {
     "name": "stderr",
     "output_type": "stream",
     "text": [
      "Train: 100%|██████████| 254/254 [01:34<00:00,  2.69batch/s, loss: 0.168806, accuracy: 85.336540% [13845/16224]]\n",
      "Val: 100%|██████████| 64/64 [00:21<00:00,  3.01batch/s, loss: 0.464892, accuracy: 89.053253% [3612/4056]]\n"
     ]
    },
    {
     "name": "stdout",
     "output_type": "stream",
     "text": [
      "New best validation accuracy: 89.053253, add to d:\\RMIT\\MachineLearning\\Asm\\Asm2\\Image_classification_data/model_saved/vgg8_bn_test1_best.pth\n",
      "Epoch 2:\n"
     ]
    },
    {
     "name": "stderr",
     "output_type": "stream",
     "text": [
      "Train: 100%|██████████| 254/254 [01:35<00:00,  2.65batch/s, loss: 0.183628, accuracy: 89.848373% [14577/16224]]\n",
      "Val: 100%|██████████| 64/64 [00:16<00:00,  3.83batch/s, loss: 0.111238, accuracy: 90.261345% [3661/4056]]\n"
     ]
    },
    {
     "name": "stdout",
     "output_type": "stream",
     "text": [
      "New best validation accuracy: 90.261345, add to d:\\RMIT\\MachineLearning\\Asm\\Asm2\\Image_classification_data/model_saved/vgg8_bn_test1_best.pth\n",
      "Epoch 3:\n"
     ]
    },
    {
     "name": "stderr",
     "output_type": "stream",
     "text": [
      "Train: 100%|██████████| 254/254 [01:30<00:00,  2.79batch/s, loss: 0.163336, accuracy: 91.635849% [14867/16224]]\n",
      "Val: 100%|██████████| 64/64 [00:17<00:00,  3.64batch/s, loss: 0.472127, accuracy: 90.729782% [3680/4056]]\n"
     ]
    },
    {
     "name": "stdout",
     "output_type": "stream",
     "text": [
      "New best validation accuracy: 90.729782, add to d:\\RMIT\\MachineLearning\\Asm\\Asm2\\Image_classification_data/model_saved/vgg8_bn_test1_best.pth\n",
      "Epoch 4:\n"
     ]
    },
    {
     "name": "stderr",
     "output_type": "stream",
     "text": [
      "Train: 100%|██████████| 254/254 [01:25<00:00,  2.96batch/s, loss: 0.287352, accuracy: 93.096649% [15104/16224]]\n",
      "Val: 100%|██████████| 64/64 [00:16<00:00,  3.90batch/s, loss: 0.154472, accuracy: 89.349113% [3624/4056]]\n"
     ]
    },
    {
     "name": "stdout",
     "output_type": "stream",
     "text": [
      "Epoch 5:\n"
     ]
    },
    {
     "name": "stderr",
     "output_type": "stream",
     "text": [
      "Train: 100%|██████████| 254/254 [01:33<00:00,  2.73batch/s, loss: 0.197074, accuracy: 94.514297% [15334/16224]]\n",
      "Val: 100%|██████████| 64/64 [00:17<00:00,  3.56batch/s, loss: 0.059251, accuracy: 91.444771% [3709/4056]]\n"
     ]
    },
    {
     "name": "stdout",
     "output_type": "stream",
     "text": [
      "New best validation accuracy: 91.444771, add to d:\\RMIT\\MachineLearning\\Asm\\Asm2\\Image_classification_data/model_saved/vgg8_bn_test1_best.pth\n",
      "Epoch 6:\n"
     ]
    },
    {
     "name": "stderr",
     "output_type": "stream",
     "text": [
      "Train: 100%|██████████| 254/254 [01:32<00:00,  2.73batch/s, loss: 0.064174, accuracy: 96.129189% [15596/16224]]\n",
      "Val: 100%|██████████| 64/64 [00:17<00:00,  3.63batch/s, loss: 0.326340, accuracy: 89.102562% [3614/4056]]\n"
     ]
    },
    {
     "name": "stdout",
     "output_type": "stream",
     "text": [
      "Epoch 7:\n"
     ]
    },
    {
     "name": "stderr",
     "output_type": "stream",
     "text": [
      "Train: 100%|██████████| 254/254 [01:32<00:00,  2.74batch/s, loss: 0.006827, accuracy: 97.244820% [15777/16224]]\n",
      "Val: 100%|██████████| 64/64 [00:17<00:00,  3.56batch/s, loss: 0.775579, accuracy: 90.581856% [3674/4056]]\n"
     ]
    },
    {
     "name": "stdout",
     "output_type": "stream",
     "text": [
      "Epoch 8:\n"
     ]
    },
    {
     "name": "stderr",
     "output_type": "stream",
     "text": [
      "Train: 100%|██████████| 254/254 [01:33<00:00,  2.72batch/s, loss: 0.110485, accuracy: 97.670120% [15846/16224]]\n",
      "Val: 100%|██████████| 64/64 [00:19<00:00,  3.36batch/s, loss: 0.202236, accuracy: 90.705132% [3679/4056]]\n"
     ]
    },
    {
     "name": "stdout",
     "output_type": "stream",
     "text": [
      "Epoch 9:\n"
     ]
    },
    {
     "name": "stderr",
     "output_type": "stream",
     "text": [
      "Train: 100%|██████████| 254/254 [01:36<00:00,  2.63batch/s, loss: 0.055153, accuracy: 98.625496% [16001/16224]]\n",
      "Val: 100%|██████████| 64/64 [00:18<00:00,  3.52batch/s, loss: 0.031323, accuracy: 89.990135% [3650/4056]]\n"
     ]
    },
    {
     "name": "stdout",
     "output_type": "stream",
     "text": [
      "Epoch 10:\n"
     ]
    },
    {
     "name": "stderr",
     "output_type": "stream",
     "text": [
      "Train: 100%|██████████| 254/254 [01:33<00:00,  2.72batch/s, loss: 0.049596, accuracy: 98.570023% [15992/16224]]\n",
      "Val: 100%|██████████| 64/64 [00:17<00:00,  3.63batch/s, loss: 0.135833, accuracy: 89.521698% [3631/4056]]\n"
     ]
    }
   ],
   "source": [
    "from utils.trainer import train, val\n",
    "from models.VGG import vgg8_bn\n",
    "\n",
    "vgg8_bn = vgg8_bn(num_classes=NUM_CLASSES, in_channels=IN_CHANNELS)\n",
    "loss_fn = nn.CrossEntropyLoss()\n",
    "optimizer = torch.optim.Adam(vgg8_bn.parameters(), lr=LEARNING_RATE)\n",
    "\n",
    "# Logs - Helpful for plotting after training finishes\n",
    "train_logs = {'loss' : [], 'accuracy' : [], 'epoch' : []}\n",
    "val_logs = {'loss' : [], 'accuracy' : [], 'epoch' : []}\n",
    "best_val_acc = 0.0\n",
    "\n",
    "for epoch in range(1, EPOCHS + 1):\n",
    "    print(f\"Epoch {epoch}:\")\n",
    "    train_loss, train_acc = train(vgg8_bn, train_loader, optimizer, loss_fn, NUM_CLASSES)\n",
    "    train_logs['loss'].append(train_loss)\n",
    "    train_logs['accuracy'].append(train_acc)\n",
    "    train_logs['epoch'].append(epoch)\n",
    "    \n",
    "    val_loss, val_acc, best_val_acc = val(vgg8_bn, val_loader, loss_fn, NUM_CLASSES, best_val_acc, 'vgg8_bn_test1')\n",
    "    val_logs['loss'].append(val_loss)\n",
    "    val_logs['accuracy'].append(val_acc)\n",
    "    val_logs['epoch'].append(epoch)"
   ]
  },
  {
   "cell_type": "code",
   "execution_count": 8,
   "metadata": {},
   "outputs": [
    {
     "data": {
      "image/png": "[encoded data removed]",
      "text/plain": [
       "<Figure size 720x360 with 1 Axes>"
      ]
     },
     "metadata": {
      "needs_background": "light"
     },
     "output_type": "display_data"
    }
   ],
   "source": [
    "from utils.visualizer import visualize_accuracy, visualize_loss\n",
    "\n",
    "visualize_accuracy(train_logs['accuracy'], val_logs['accuracy'])"
   ]
  },
  {
   "cell_type": "code",
   "execution_count": 9,
   "metadata": {},
   "outputs": [
    {
     "data": {
      "image/png": "[encoded data removed]",
      "text/plain": [
       "<Figure size 720x360 with 1 Axes>"
      ]
     },
     "metadata": {
      "needs_background": "light"
     },
     "output_type": "display_data"
    }
   ],
   "source": [
    "visualize_loss(train_logs['loss'], val_logs['loss'])"
   ]
  },
  {
   "cell_type": "code",
   "execution_count": null,
   "metadata": {},
   "outputs": [],
   "source": []
  }
 ],
 "metadata": {
  "interpreter": {
   "hash": "15e1429265b09645c6a4168dd141ccc408720e8952e5bec305f5c51b332eaa71"
  },
  "kernelspec": {
   "display_name": "Python 3.9.12 ('mlasm2')",
   "language": "python",
   "name": "python3"
  },
  "language_info": {
   "codemirror_mode": {
    "name": "ipython",
    "version": 3
   },
   "file_extension": ".py",
   "mimetype": "text/x-python",
   "name": "python",
   "nbconvert_exporter": "python",
   "pygments_lexer": "ipython3",
   "version": "3.9.12"
  },
  "orig_nbformat": 4
 },
 "nbformat": 4,
 "nbformat_minor": 2
}
