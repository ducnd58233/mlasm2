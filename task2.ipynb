{
 "cells": [
  {
   "cell_type": "code",
   "execution_count": 1,
   "metadata": {},
   "outputs": [
    {
     "name": "stderr",
     "output_type": "stream",
     "text": [
      "c:\\Users\\Admin\\anaconda3\\envs\\mlasm2\\lib\\site-packages\\tqdm\\auto.py:22: TqdmWarning: IProgress not found. Please update jupyter and ipywidgets. See https://ipywidgets.readthedocs.io/en/stable/user_install.html\n",
      "  from .autonotebook import tqdm as notebook_tqdm\n"
     ]
    }
   ],
   "source": [
    "import numpy as np\n",
    "import matplotlib.pyplot as plt\n",
    "from sklearn.model_selection import train_test_split\n",
    "import pandas as pd\n",
    "import os, sys\n",
    "import random\n",
    "\n",
    "import torch\n",
    "import torch.nn as nn\n",
    "from torch.utils.data import Dataset, DataLoader\n",
    "import torch.optim as optim\n",
    "import torch.nn.functional as F"
   ]
  },
  {
   "cell_type": "code",
   "execution_count": 2,
   "metadata": {},
   "outputs": [],
   "source": [
    "SEED = 4321\n",
    "random.seed(SEED)\n",
    "np.random.seed(SEED)\n",
    "torch.manual_seed(SEED)\n",
    "torch.cuda.manual_seed(SEED)\n",
    "torch.backends.cudnn.deterministic = True"
   ]
  },
  {
   "cell_type": "code",
   "execution_count": 3,
   "metadata": {},
   "outputs": [],
   "source": [
    "main = pd.read_csv(\"data_labels_mainData.csv\")\n",
    "extra = pd.read_csv(\"data_labels_extraData.csv\")"
   ]
  },
  {
   "cell_type": "code",
   "execution_count": 4,
   "metadata": {},
   "outputs": [
    {
     "name": "stdout",
     "output_type": "stream",
     "text": [
      "main file shape: (9896, 6)\n",
      "extra file shape: (10384, 4)\n"
     ]
    }
   ],
   "source": [
    "print(f'main file shape: {main.shape}')\n",
    "print(f'extra file shape: {extra.shape}')"
   ]
  },
  {
   "cell_type": "code",
   "execution_count": 5,
   "metadata": {},
   "outputs": [],
   "source": [
    "LEARNING_RATE = 1e-4\n",
    "TRAIN_BATCH_SIZE = 64\n",
    "VAL_BATCH_SIZE = 64\n",
    "NUM_WORKERS = 4\n",
    "EPOCHS = 100\n",
    "NUM_CLASSES = len(main['cellType'].unique())\n",
    "IN_CHANNELS = 3\n",
    "DEVICE = torch.device(\"cuda\") if torch.cuda.is_available() else torch.device(\"cpu\")\n",
    "EARLY_STOPPING = 3"
   ]
  },
  {
   "cell_type": "markdown",
   "metadata": {},
   "source": [
    "# Supervised Model (VGG8)"
   ]
  },
  {
   "cell_type": "code",
   "execution_count": 6,
   "metadata": {},
   "outputs": [],
   "source": [
    "from utils.MyDataset import MyDataset\n",
    "\n",
    "train_imgs, val_imgs = train_test_split(main, test_size=0.2)\n",
    "\n",
    "train_dataset = MyDataset(train_imgs, 'cellType')\n",
    "val_dataset = MyDataset(val_imgs, 'cellType')\n",
    "test_dataset = MyDataset(extra, '')\n",
    "\n",
    "train_loader = DataLoader(\n",
    "    dataset = train_dataset,\n",
    "    num_workers = NUM_WORKERS,\n",
    "    batch_size = TRAIN_BATCH_SIZE,\n",
    "    shuffle = True\n",
    ")\n",
    "\n",
    "val_loader = DataLoader(\n",
    "    dataset = val_dataset,\n",
    "    num_workers = NUM_WORKERS,\n",
    "    batch_size = VAL_BATCH_SIZE,\n",
    "    shuffle = True\n",
    ")\n",
    "\n",
    "test_loader = DataLoader(\n",
    "    dataset = test_dataset,\n",
    "    num_workers = NUM_WORKERS,\n",
    "    batch_size = 1,\n",
    "    shuffle = True\n",
    ")"
   ]
  },
  {
   "cell_type": "code",
   "execution_count": 7,
   "metadata": {},
   "outputs": [
    {
     "name": "stdout",
     "output_type": "stream",
     "text": [
      "Epoch 1:\n"
     ]
    },
    {
     "name": "stderr",
     "output_type": "stream",
     "text": [
      "Train: 100%|██████████| 124/124 [00:44<00:00,  2.79batch/s, loss: 0.807060, accuracy: 63.188480% [5002/7916]]\n",
      "Val: 100%|██████████| 31/31 [00:13<00:00,  2.30batch/s, loss: 0.661793, accuracy: 70.252525% [1391/1980]]\n"
     ]
    },
    {
     "name": "stdout",
     "output_type": "stream",
     "text": [
      "New best validation accuracy: 70.252525, add to d:\\RMIT\\MachineLearning\\Asm\\Asm2\\Image_classification_data/model_saved/vgg8_bn_supervised_test2_best.pth\n",
      "Epoch 2:\n"
     ]
    },
    {
     "name": "stderr",
     "output_type": "stream",
     "text": [
      "Train: 100%|██████████| 124/124 [00:48<00:00,  2.57batch/s, loss: 0.844073, accuracy: 74.279938% [5880/7916]]\n",
      "Val: 100%|██████████| 31/31 [00:13<00:00,  2.27batch/s, loss: 0.532359, accuracy: 74.696968% [1479/1980]]\n"
     ]
    },
    {
     "name": "stdout",
     "output_type": "stream",
     "text": [
      "New best validation accuracy: 74.696968, add to d:\\RMIT\\MachineLearning\\Asm\\Asm2\\Image_classification_data/model_saved/vgg8_bn_supervised_test2_best.pth\n",
      "Epoch 3:\n"
     ]
    },
    {
     "name": "stderr",
     "output_type": "stream",
     "text": [
      "Train: 100%|██████████| 124/124 [00:45<00:00,  2.71batch/s, loss: 0.609835, accuracy: 77.627586% [6145/7916]]\n",
      "Val: 100%|██████████| 31/31 [00:11<00:00,  2.59batch/s, loss: 0.474427, accuracy: 76.313133% [1511/1980]]\n"
     ]
    },
    {
     "name": "stdout",
     "output_type": "stream",
     "text": [
      "New best validation accuracy: 76.313133, add to d:\\RMIT\\MachineLearning\\Asm\\Asm2\\Image_classification_data/model_saved/vgg8_bn_supervised_test2_best.pth\n",
      "Epoch 4:\n"
     ]
    },
    {
     "name": "stderr",
     "output_type": "stream",
     "text": [
      "Train: 100%|██████████| 124/124 [00:40<00:00,  3.10batch/s, loss: 0.474470, accuracy: 80.419403% [6366/7916]]\n",
      "Val: 100%|██████████| 31/31 [00:11<00:00,  2.61batch/s, loss: 0.718834, accuracy: 76.767677% [1520/1980]]\n"
     ]
    },
    {
     "name": "stdout",
     "output_type": "stream",
     "text": [
      "New best validation accuracy: 76.767677, add to d:\\RMIT\\MachineLearning\\Asm\\Asm2\\Image_classification_data/model_saved/vgg8_bn_supervised_test2_best.pth\n",
      "Epoch 5:\n"
     ]
    },
    {
     "name": "stderr",
     "output_type": "stream",
     "text": [
      "Train: 100%|██████████| 124/124 [00:41<00:00,  3.02batch/s, loss: 0.358427, accuracy: 84.057602% [6654/7916]]\n",
      "Val: 100%|██████████| 31/31 [00:11<00:00,  2.65batch/s, loss: 0.634690, accuracy: 77.373741% [1532/1980]]\n"
     ]
    },
    {
     "name": "stdout",
     "output_type": "stream",
     "text": [
      "New best validation accuracy: 77.373741, add to d:\\RMIT\\MachineLearning\\Asm\\Asm2\\Image_classification_data/model_saved/vgg8_bn_supervised_test2_best.pth\n",
      "Epoch 6:\n"
     ]
    },
    {
     "name": "stderr",
     "output_type": "stream",
     "text": [
      "Train: 100%|██████████| 124/124 [00:41<00:00,  2.99batch/s, loss: 0.498256, accuracy: 86.419907% [6841/7916]]\n",
      "Val: 100%|██████████| 31/31 [00:11<00:00,  2.62batch/s, loss: 0.557607, accuracy: 75.151512% [1488/1980]]\n"
     ]
    },
    {
     "name": "stdout",
     "output_type": "stream",
     "text": [
      "Epoch 7:\n"
     ]
    },
    {
     "name": "stderr",
     "output_type": "stream",
     "text": [
      "Train: 100%|██████████| 124/124 [00:40<00:00,  3.05batch/s, loss: 0.262164, accuracy: 90.133904% [7135/7916]]\n",
      "Val: 100%|██████████| 31/31 [00:13<00:00,  2.29batch/s, loss: 0.624260, accuracy: 77.070709% [1526/1980]]\n"
     ]
    },
    {
     "name": "stdout",
     "output_type": "stream",
     "text": [
      "Epoch 8:\n"
     ]
    },
    {
     "name": "stderr",
     "output_type": "stream",
     "text": [
      "Train: 100%|██████████| 124/124 [00:48<00:00,  2.58batch/s, loss: 0.184308, accuracy: 92.799393% [7346/7916]]\n",
      "Val: 100%|██████████| 31/31 [00:13<00:00,  2.24batch/s, loss: 0.739323, accuracy: 73.282829% [1451/1980]]\n"
     ]
    }
   ],
   "source": [
    "from utils.trainer import train, val\n",
    "from models.VGG import vgg8_bn\n",
    "\n",
    "vgg8_bn = vgg8_bn(num_classes=NUM_CLASSES, in_channels=IN_CHANNELS)\n",
    "loss_fn = nn.CrossEntropyLoss()\n",
    "optimizer = torch.optim.Adam(vgg8_bn.parameters(), lr=LEARNING_RATE)\n",
    "\n",
    "# Logs - Helpful for plotting after training finishes\n",
    "vgg8_bn_train_logs = {'loss' : [], 'accuracy' : [], 'epoch' : []}\n",
    "vgg8_bn_val_logs = {'loss' : [], 'accuracy' : [], 'epoch' : []}\n",
    "vgg8_bn_best_val_acc = 0.0\n",
    "prev_vgg8_bn_best_val_acc = 0.0\n",
    "unchange_val_acc_count = 0\n",
    "\n",
    "for epoch in range(1, EPOCHS + 1):\n",
    "    print(f\"Epoch {epoch}:\")\n",
    "    train_loss, train_acc = train(vgg8_bn, train_loader, optimizer, loss_fn, NUM_CLASSES)\n",
    "    vgg8_bn_train_logs['loss'].append(train_loss)\n",
    "    vgg8_bn_train_logs['accuracy'].append(train_acc)\n",
    "    vgg8_bn_train_logs['epoch'].append(epoch)\n",
    "    \n",
    "    prev_vgg8_bn_best_val_acc = vgg8_bn_best_val_acc\n",
    "    val_loss, val_acc, vgg8_bn_best_val_acc = val(vgg8_bn, val_loader, loss_fn, NUM_CLASSES, vgg8_bn_best_val_acc, 'vgg8_bn_supervised_test2')\n",
    "    vgg8_bn_val_logs['loss'].append(val_loss)\n",
    "    vgg8_bn_val_logs['accuracy'].append(val_acc)\n",
    "    vgg8_bn_val_logs['epoch'].append(epoch)\n",
    "    \n",
    "    # Check if best validation accuracy unchange in EARLY_STOPPING times, it will stop training\n",
    "    if prev_vgg8_bn_best_val_acc == vgg8_bn_best_val_acc:\n",
    "        unchange_val_acc_count += 1\n",
    "    else:\n",
    "        unchange_val_acc_count = 0\n",
    "        \n",
    "    if unchange_val_acc_count == EARLY_STOPPING:\n",
    "        break\n",
    "            \n",
    "    "
   ]
  },
  {
   "cell_type": "code",
   "execution_count": 8,
   "metadata": {},
   "outputs": [
    {
     "data": {
      "image/png": "[encoded data removed]",
      "text/plain": [
       "<Figure size 720x360 with 1 Axes>"
      ]
     },
     "metadata": {
      "needs_background": "light"
     },
     "output_type": "display_data"
    }
   ],
   "source": [
    "from utils.visualizer import visualize_accuracy, visualize_loss\n",
    "\n",
    "visualize_accuracy(vgg8_bn_train_logs['accuracy'], vgg8_bn_val_logs['accuracy'])"
   ]
  },
  {
   "cell_type": "code",
   "execution_count": 9,
   "metadata": {},
   "outputs": [
    {
     "data": {
      "image/png": "[encoded data removed]",
      "text/plain": [
       "<Figure size 720x360 with 1 Axes>"
      ]
     },
     "metadata": {
      "needs_background": "light"
     },
     "output_type": "display_data"
    }
   ],
   "source": [
    "visualize_loss(vgg8_bn_train_logs['loss'], vgg8_bn_val_logs['loss'])"
   ]
  },
  {
   "cell_type": "markdown",
   "metadata": {},
   "source": [
    "# Supervised Model (ResNet10)"
   ]
  },
  {
   "cell_type": "code",
   "execution_count": 6,
   "metadata": {},
   "outputs": [],
   "source": [
    "from utils.MyDataset import MyDataset\n",
    "\n",
    "train_imgs, val_imgs = train_test_split(main, test_size=0.2)\n",
    "\n",
    "train_dataset = MyDataset(train_imgs, 'cellType')\n",
    "val_dataset = MyDataset(val_imgs, 'cellType')\n",
    "test_dataset = MyDataset(extra, '')\n",
    "\n",
    "train_loader = DataLoader(\n",
    "    dataset = train_dataset,\n",
    "    num_workers = NUM_WORKERS,\n",
    "    batch_size = TRAIN_BATCH_SIZE,\n",
    "    shuffle = True\n",
    ")\n",
    "\n",
    "val_loader = DataLoader(\n",
    "    dataset = val_dataset,\n",
    "    num_workers = NUM_WORKERS,\n",
    "    batch_size = VAL_BATCH_SIZE,\n",
    "    shuffle = True\n",
    ")\n",
    "\n",
    "test_loader = DataLoader(\n",
    "    dataset = test_dataset,\n",
    "    num_workers = NUM_WORKERS,\n",
    "    batch_size = 1,\n",
    "    shuffle = True\n",
    ")\n"
   ]
  },
  {
   "cell_type": "code",
   "execution_count": 7,
   "metadata": {},
   "outputs": [
    {
     "name": "stdout",
     "output_type": "stream",
     "text": [
      "Epoch 1:\n"
     ]
    },
    {
     "name": "stderr",
     "output_type": "stream",
     "text": [
      "Train: 100%|██████████| 124/124 [02:00<00:00,  1.03batch/s, loss: 0.509381, accuracy: 68.948967% [5458/7916]]\n",
      "Val: 100%|██████████| 31/31 [00:23<00:00,  1.34batch/s, loss: 0.755360, accuracy: 70.858589% [1403/1980]]\n"
     ]
    },
    {
     "name": "stdout",
     "output_type": "stream",
     "text": [
      "New best validation accuracy: 70.858589, add to d:\\RMIT\\MachineLearning\\Asm\\Asm2\\Image_classification_data/model_saved/resnet10_supervised_test2_best.pth\n",
      "Epoch 2:\n"
     ]
    },
    {
     "name": "stderr",
     "output_type": "stream",
     "text": [
      "Train: 100%|██████████| 124/124 [01:55<00:00,  1.07batch/s, loss: 0.619766, accuracy: 79.130875% [6264/7916]]\n",
      "Val: 100%|██████████| 31/31 [00:27<00:00,  1.12batch/s, loss: 0.571398, accuracy: 74.393936% [1473/1980]]\n"
     ]
    },
    {
     "name": "stdout",
     "output_type": "stream",
     "text": [
      "New best validation accuracy: 74.393936, add to d:\\RMIT\\MachineLearning\\Asm\\Asm2\\Image_classification_data/model_saved/resnet10_supervised_test2_best.pth\n",
      "Epoch 3:\n"
     ]
    },
    {
     "name": "stderr",
     "output_type": "stream",
     "text": [
      "Train: 100%|██████████| 124/124 [01:28<00:00,  1.40batch/s, loss: 0.522619, accuracy: 85.118744% [6738/7916]]\n",
      "Val: 100%|██████████| 31/31 [00:23<00:00,  1.31batch/s, loss: 0.832386, accuracy: 72.323235% [1432/1980]]\n"
     ]
    },
    {
     "name": "stdout",
     "output_type": "stream",
     "text": [
      "Epoch 4:\n"
     ]
    },
    {
     "name": "stderr",
     "output_type": "stream",
     "text": [
      "Train: 100%|██████████| 124/124 [02:08<00:00,  1.04s/batch, loss: 0.352087, accuracy: 90.260231% [7145/7916]]\n",
      "Val: 100%|██████████| 31/31 [00:25<00:00,  1.21batch/s, loss: 0.940778, accuracy: 66.262627% [1312/1980]]\n"
     ]
    },
    {
     "name": "stdout",
     "output_type": "stream",
     "text": [
      "Epoch 5:\n"
     ]
    },
    {
     "name": "stderr",
     "output_type": "stream",
     "text": [
      "Train: 100%|██████████| 124/124 [02:00<00:00,  1.03batch/s, loss: 0.282914, accuracy: 93.746841% [7421/7916]]\n",
      "Val: 100%|██████████| 31/31 [00:23<00:00,  1.31batch/s, loss: 0.476597, accuracy: 72.979797% [1445/1980]]\n"
     ]
    }
   ],
   "source": [
    "from utils.trainer import train, val\n",
    "from models.ResNet import resnet10\n",
    "\n",
    "resnet10 = resnet10(num_classes=NUM_CLASSES, num_channels=IN_CHANNELS)\n",
    "loss_fn = nn.CrossEntropyLoss()\n",
    "optimizer = torch.optim.Adam(resnet10.parameters(), lr=LEARNING_RATE)\n",
    "\n",
    "# Logs - Helpful for plotting after training finishes\n",
    "resnet10_train_logs = {'loss' : [], 'accuracy' : [], 'epoch' : []}\n",
    "resnet10_val_logs = {'loss' : [], 'accuracy' : [], 'epoch' : []}\n",
    "resnet10_best_val_acc = 0.0\n",
    "prev_resnet10_best_val_acc = 0.0\n",
    "EARLY_STOPPING = 3\n",
    "\n",
    "for epoch in range(1, EPOCHS + 1):\n",
    "    print(f\"Epoch {epoch}:\")\n",
    "    train_loss, train_acc = train(resnet10, train_loader, optimizer, loss_fn, NUM_CLASSES)\n",
    "    resnet10_train_logs['loss'].append(train_loss)\n",
    "    resnet10_train_logs['accuracy'].append(train_acc)\n",
    "    resnet10_train_logs['epoch'].append(epoch)\n",
    "    \n",
    "    prev_resnet10_best_val_acc = resnet10_best_val_acc\n",
    "    val_loss, val_acc, resnet10_best_val_acc = val(resnet10, val_loader, loss_fn, NUM_CLASSES, resnet10_best_val_acc, 'resnet10_supervised_test2')\n",
    "    resnet10_val_logs['loss'].append(val_loss)\n",
    "    resnet10_val_logs['accuracy'].append(val_acc)\n",
    "    resnet10_val_logs['epoch'].append(epoch)\n",
    "    \n",
    "    # Check if best validation accuracy unchange in EARLY_STOPPING times, it will stop training\n",
    "    if prev_resnet10_best_val_acc == resnet10_best_val_acc:\n",
    "        unchange_val_acc_count += 1\n",
    "    else:\n",
    "        unchange_val_acc_count = 0\n",
    "        \n",
    "    if unchange_val_acc_count == EARLY_STOPPING:\n",
    "        break"
   ]
  },
  {
   "cell_type": "code",
   "execution_count": 8,
   "metadata": {},
   "outputs": [
    {
     "data": {
      "image/png": "[encoded data removed]",
      "text/plain": [
       "<Figure size 720x360 with 1 Axes>"
      ]
     },
     "metadata": {
      "needs_background": "light"
     },
     "output_type": "display_data"
    }
   ],
   "source": [
    "from utils.visualizer import visualize_accuracy, visualize_loss\n",
    "\n",
    "visualize_accuracy(resnet10_train_logs['accuracy'], resnet10_val_logs['accuracy'])"
   ]
  },
  {
   "cell_type": "code",
   "execution_count": 9,
   "metadata": {},
   "outputs": [
    {
     "data": {
      "image/png": "[encoded data removed]",
      "text/plain": [
       "<Figure size 720x360 with 1 Axes>"
      ]
     },
     "metadata": {
      "needs_background": "light"
     },
     "output_type": "display_data"
    }
   ],
   "source": [
    "visualize_loss(resnet10_train_logs['loss'], resnet10_val_logs['loss'])"
   ]
  },
  {
   "cell_type": "markdown",
   "metadata": {},
   "source": [
    "# Pseudo-Labeling "
   ]
  },
  {
   "cell_type": "code",
   "execution_count": 6,
   "metadata": {},
   "outputs": [],
   "source": [
    "LEARNING_RATE = 0.01\n",
    "TRAIN_BATCH_SIZE = 128\n",
    "VAL_BATCH_SIZE = 64\n",
    "TEST_BATCH_SIZE = 128\n",
    "NUM_WORKERS = 4\n",
    "EPOCHS = 10\n",
    "NUM_CLASSES = len(main['cellType'].unique())\n",
    "IN_CHANNELS = 3\n",
    "DEVICE = torch.device(\"cuda\") if torch.cuda.is_available() else torch.device(\"cpu\")\n",
    "EARLY_STOPPING = 3"
   ]
  },
  {
   "cell_type": "code",
   "execution_count": 7,
   "metadata": {},
   "outputs": [
    {
     "name": "stdout",
     "output_type": "stream",
     "text": [
      "Choosing model: vgg8\n"
     ]
    }
   ],
   "source": [
    "from utils.trainer import test\n",
    "from models.ResNet import resnet10\n",
    "from models.VGG import vgg8_bn\n",
    "\n",
    "loss_fn = nn.CrossEntropyLoss()\n",
    "\n",
    "filepath = os.getcwd() + '/model_saved/'\n",
    "model = None\n",
    "saved = None\n",
    "best_val_acc = 0\n",
    "resnet10_best_val_acc = torch.load(filepath + 'resnet10_supervised_test2_best.pth')['best_val_acc']\n",
    "vgg8_bn_best_val_acc = torch.load(filepath + 'vgg8_bn_supervised_test2_best.pth')['best_val_acc']\n",
    "\n",
    "if resnet10_best_val_acc > vgg8_bn_best_val_acc:\n",
    "    model = resnet10(num_classes=NUM_CLASSES, num_channels=IN_CHANNELS)\n",
    "    model.load_state_dict(torch.load(filepath + 'resnet10_supervised_test2_best.pth')['model_state_dict'])\n",
    "    best_val_acc = resnet10_best_val_acc\n",
    "    print('Choosing model: resnet10')\n",
    "else:\n",
    "    model = vgg8_bn(num_classes=NUM_CLASSES, in_channels=IN_CHANNELS)  \n",
    "    model.load_state_dict(torch.load(filepath + 'vgg8_bn_supervised_test2_best.pth')['model_state_dict'])\n",
    "    best_val_acc = vgg8_bn_best_val_acc\n",
    "    print('Choosing model: vgg8')\n",
    "\n"
   ]
  },
  {
   "cell_type": "markdown",
   "metadata": {},
   "source": [
    "> Merged mainData with extraData (pseudo label) and feed to model again to learn"
   ]
  },
  {
   "cell_type": "code",
   "execution_count": 8,
   "metadata": {},
   "outputs": [],
   "source": [
    "SEED = 6666\n",
    "random.seed(SEED)\n",
    "np.random.seed(SEED)\n",
    "torch.manual_seed(SEED)\n",
    "torch.cuda.manual_seed(SEED)\n",
    "torch.backends.cudnn.deterministic = True"
   ]
  },
  {
   "cell_type": "code",
   "execution_count": 9,
   "metadata": {},
   "outputs": [],
   "source": [
    "from utils.MyDataset import MyDataset\n",
    "\n",
    "train_imgs, val_imgs = train_test_split(main, test_size=0.2)\n",
    "\n",
    "train_dataset = MyDataset(train_imgs, 'cellType')\n",
    "val_dataset = MyDataset(val_imgs, 'cellType')\n",
    "test_dataset = MyDataset(extra, '')\n",
    "\n",
    "train_loader = DataLoader(\n",
    "    dataset = train_dataset,\n",
    "    num_workers = NUM_WORKERS,\n",
    "    batch_size = TRAIN_BATCH_SIZE,\n",
    "    shuffle = True\n",
    ")\n",
    "\n",
    "val_loader = DataLoader(\n",
    "    dataset = val_dataset,\n",
    "    num_workers = NUM_WORKERS,\n",
    "    batch_size = VAL_BATCH_SIZE,\n",
    "    shuffle = True\n",
    ")\n",
    "\n",
    "test_loader = DataLoader(\n",
    "    dataset = test_dataset,\n",
    "    num_workers = NUM_WORKERS,\n",
    "    batch_size = TEST_BATCH_SIZE,\n",
    "    shuffle = True\n",
    ")"
   ]
  },
  {
   "cell_type": "code",
   "execution_count": 10,
   "metadata": {},
   "outputs": [],
   "source": [
    "from tqdm import tqdm\n",
    "\n",
    "filepath = os.getcwd() + '/model_saved/'\n",
    "DEVICE = torch.device('cuda') \\\n",
    "            if torch.cuda.is_available() \\\n",
    "            else torch.device('cpu')\n",
    "\n",
    "T1 = 100\n",
    "T2 = 700\n",
    "af = 1\n",
    "\n",
    "def alpha_weight(epoch):\n",
    "    if epoch < T1:\n",
    "        return 0.0\n",
    "    elif epoch > T2:\n",
    "        return af\n",
    "    else:\n",
    "         return ((epoch-T1) / (T2-T1))*af\n",
    "\n",
    "def evaluate(model, test_loader, loss_criteria, batch_size = 64):\n",
    "    model.eval()\n",
    "    correct = 0 \n",
    "    loss = 0\n",
    "    with torch.no_grad():\n",
    "        for data, labels in test_loader:\n",
    "            data = data.to(DEVICE)\n",
    "            output = model(data)\n",
    "            predicted = torch.max(output,1)[1]\n",
    "            correct += (predicted == labels).sum()\n",
    "            loss += loss_criteria(output, labels).item()\n",
    "\n",
    "    return (float(correct)/(batch_size * len(test_loader))) *100, (loss/len(test_loader))\n",
    "            \n",
    "def semisup_train(\n",
    "    model: nn.Module,\n",
    "    train_loader: DataLoader,\n",
    "    unlabled_loader: DataLoader,\n",
    "    test_loader: DataLoader,\n",
    "    optimizer: torch.optim,\n",
    "    loss_criteria: torch.nn,\n",
    "    best_val_acc: float,\n",
    "    num_classes: int,\n",
    "    model_name: str\n",
    "):\n",
    "    acc_scores = []\n",
    "    unlabel = []\n",
    "    pseudo_label = []\n",
    "    step = 100\n",
    "\n",
    "    alpha_log = []\n",
    "    test_acc_log = []\n",
    "    test_loss_log = []\n",
    "    \n",
    "    BATCHES = 5\n",
    "    \n",
    "    with tqdm(enumerate(unlabled_loader), unit = 'batch') as tepoch:\n",
    "        for batch_idx, x_unlabeled in tepoch:\n",
    "            x_unlabeled = x_unlabeled[0].to(DEVICE)\n",
    "            model.eval()\n",
    "            output_unlabeled = model(x_unlabeled)\n",
    "            _, pseudo_labeled = torch.max(output_unlabeled, 1)\n",
    "            model.train()  \n",
    "            \n",
    "            if (batch_idx < 3) and (epoch % 10 == 0):\n",
    "                unlabel.append(x_unlabeled.to(DEVICE))\n",
    "                pseudo_label.append(pseudo_labeled.to(DEVICE))\n",
    "            \n",
    "            # Now calculate the unlabeled loss using the pseudo label\n",
    "            output = model(x_unlabeled)\n",
    "            unlabeled_loss = alpha_weight(step) * loss_criteria(output, pseudo_labeled)   \n",
    "            \n",
    "            # Backpropogate\n",
    "            optimizer.zero_grad()\n",
    "            unlabeled_loss.backward()\n",
    "            optimizer.step()\n",
    "            \n",
    "            \n",
    "            # For every 50 batches train one epoch on labeled data \n",
    "            if batch_idx % BATCHES == 0:\n",
    "                \n",
    "                # Normal training procedure\n",
    "                for batch_idx, (X_batch, y_batch) in enumerate(train_loader):\n",
    "                    X_batch = X_batch.to(DEVICE)\n",
    "                    y_batch = y_batch.to(DEVICE)\n",
    "                    output = model(X_batch)\n",
    "                    labeled_loss = loss_criteria(output, y_batch)\n",
    "\n",
    "                    optimizer.zero_grad()\n",
    "                    labeled_loss.backward()\n",
    "                    optimizer.step()\n",
    "                \n",
    "                # Now we increment step by 1\n",
    "                step += 1\n",
    "                \n",
    "        test_acc, test_loss = evaluate(model, test_loader, loss_criteria, len(unlabled_loader))\n",
    "        print(f'Alpha Weight : {alpha_weight(step):.5f} | Test Acc : {test_acc:.5f} | Test Loss : {test_loss:.3f} ')\n",
    "        \n",
    "        if test_acc > best_val_acc:\n",
    "            best_val_acc = test_acc\n",
    "            saved = {'best_val_acc': best_val_acc, 'model_state_dict': model.state_dict()}\n",
    "            torch.save(saved, filepath + model_name + \"_best.pth\")\n",
    "            print(f'New best validation accuracy: {best_val_acc:.6f}, add to {filepath + model_name + \"\"}_best.pth')\n",
    "        \n",
    "        model.train()\n",
    "    return test_loss, test_acc, best_val_acc, alpha_weight(step)\n"
   ]
  },
  {
   "cell_type": "code",
   "execution_count": 11,
   "metadata": {},
   "outputs": [
    {
     "name": "stdout",
     "output_type": "stream",
     "text": [
      "Epoch 1:\n"
     ]
    },
    {
     "name": "stderr",
     "output_type": "stream",
     "text": [
      "82batch [09:31,  6.97s/batch]\n"
     ]
    },
    {
     "name": "stdout",
     "output_type": "stream",
     "text": [
      "Alpha Weight : 0.02833 | Test Acc : 43.15500 | Test Loss : 2.924 \n",
      "Epoch 2:\n"
     ]
    },
    {
     "name": "stderr",
     "output_type": "stream",
     "text": [
      "82batch [09:32,  6.98s/batch]\n"
     ]
    },
    {
     "name": "stdout",
     "output_type": "stream",
     "text": [
      "Alpha Weight : 0.02833 | Test Acc : 67.23053 | Test Loss : 0.586 \n",
      "Epoch 3:\n"
     ]
    },
    {
     "name": "stderr",
     "output_type": "stream",
     "text": [
      "82batch [09:29,  6.95s/batch]\n"
     ]
    },
    {
     "name": "stdout",
     "output_type": "stream",
     "text": [
      "Alpha Weight : 0.02833 | Test Acc : 68.88277 | Test Loss : 0.547 \n",
      "Epoch 4:\n"
     ]
    },
    {
     "name": "stderr",
     "output_type": "stream",
     "text": [
      "82batch [09:27,  6.92s/batch]\n"
     ]
    },
    {
     "name": "stdout",
     "output_type": "stream",
     "text": [
      "Alpha Weight : 0.02833 | Test Acc : 68.80409 | Test Loss : 0.487 \n",
      "Epoch 5:\n"
     ]
    },
    {
     "name": "stderr",
     "output_type": "stream",
     "text": [
      "82batch [09:18,  6.81s/batch]\n"
     ]
    },
    {
     "name": "stdout",
     "output_type": "stream",
     "text": [
      "Alpha Weight : 0.02833 | Test Acc : 68.37136 | Test Loss : 0.606 \n",
      "Epoch 6:\n"
     ]
    },
    {
     "name": "stderr",
     "output_type": "stream",
     "text": [
      "82batch [09:29,  6.95s/batch]\n"
     ]
    },
    {
     "name": "stdout",
     "output_type": "stream",
     "text": [
      "Alpha Weight : 0.02833 | Test Acc : 67.66326 | Test Loss : 0.649 \n",
      "Epoch 7:\n"
     ]
    },
    {
     "name": "stderr",
     "output_type": "stream",
     "text": [
      "82batch [09:28,  6.93s/batch]\n"
     ]
    },
    {
     "name": "stdout",
     "output_type": "stream",
     "text": [
      "Alpha Weight : 0.02833 | Test Acc : 68.05665 | Test Loss : 0.687 \n",
      "Epoch 8:\n"
     ]
    },
    {
     "name": "stderr",
     "output_type": "stream",
     "text": [
      "82batch [09:16,  6.79s/batch]\n"
     ]
    },
    {
     "name": "stdout",
     "output_type": "stream",
     "text": [
      "Alpha Weight : 0.02833 | Test Acc : 68.17467 | Test Loss : 0.689 \n",
      "Epoch 9:\n"
     ]
    },
    {
     "name": "stderr",
     "output_type": "stream",
     "text": [
      "82batch [09:02,  6.61s/batch]\n"
     ]
    },
    {
     "name": "stdout",
     "output_type": "stream",
     "text": [
      "Alpha Weight : 0.02833 | Test Acc : 67.23053 | Test Loss : 0.788 \n",
      "Epoch 10:\n"
     ]
    },
    {
     "name": "stderr",
     "output_type": "stream",
     "text": [
      "82batch [08:52,  6.49s/batch]\n"
     ]
    },
    {
     "name": "stdout",
     "output_type": "stream",
     "text": [
      "Alpha Weight : 0.02833 | Test Acc : 66.71912 | Test Loss : 0.829 \n"
     ]
    }
   ],
   "source": [
    "# from utils.trainer import semisup_train\n",
    "\n",
    "loss_fn = nn.CrossEntropyLoss()\n",
    "optimizer = torch.optim.SGD(model.parameters(), lr=0.01)\n",
    "\n",
    "# Logs - Helpful for plotting after training finishes\n",
    "pseudo_label_train_logs = {'loss' : [], 'accuracy' : [], 'epoch' : [], 'alpha': []}\n",
    "pseudo_label_best_acc = best_val_acc\n",
    "prev_pseudo_label_best_acc = best_val_acc\n",
    "unchange_val_acc_count = 0\n",
    "\n",
    "for epoch in range(1, EPOCHS + 1):\n",
    "    print(f\"Epoch {epoch}:\")\n",
    "    prev_pseudo_label_best_acc = pseudo_label_best_acc\n",
    "    train_loss, train_acc, pseudo_label_best_acc, alpha = semisup_train(model, train_loader, test_loader, val_loader, optimizer, loss_fn, pseudo_label_best_acc, NUM_CLASSES, 'pseudo_labels')\n",
    "    pseudo_label_train_logs['loss'].append(train_loss)\n",
    "    pseudo_label_train_logs['accuracy'].append(train_acc)\n",
    "    pseudo_label_train_logs['epoch'].append(epoch)\n",
    "    pseudo_label_train_logs['alpha'].append(alpha)\n",
    "    \n",
    "    # Check if best validation accuracy unchange in EARLY_STOPPING times, it will stop training\n",
    "    # if prev_pseudo_label_best_acc == pseudo_label_best_acc:\n",
    "    #     unchange_val_acc_count += 1\n",
    "    # else:\n",
    "    #     unchange_val_acc_count = 0\n",
    "        \n",
    "    # if unchange_val_acc_count == EARLY_STOPPING:\n",
    "    #     break"
   ]
  },
  {
   "cell_type": "code",
   "execution_count": 12,
   "metadata": {},
   "outputs": [
    {
     "data": {
      "image/png": "[encoded data removed]",
      "text/plain": [
       "<Figure size 720x360 with 1 Axes>"
      ]
     },
     "metadata": {
      "needs_background": "light"
     },
     "output_type": "display_data"
    }
   ],
   "source": [
    "from utils.visualizer import visualize_test_acc, visualize_test_loss\n",
    "\n",
    "visualize_test_acc(pseudo_label_train_logs['accuracy'])"
   ]
  },
  {
   "cell_type": "code",
   "execution_count": 13,
   "metadata": {},
   "outputs": [
    {
     "data": {
      "image/png": "[encoded data removed]",
      "text/plain": [
       "<Figure size 720x360 with 1 Axes>"
      ]
     },
     "metadata": {
      "needs_background": "light"
     },
     "output_type": "display_data"
    }
   ],
   "source": [
    "visualize_test_loss(pseudo_label_train_logs['loss'])"
   ]
  },
  {
   "cell_type": "code",
   "execution_count": null,
   "metadata": {},
   "outputs": [],
   "source": []
  }
 ],
 "metadata": {
  "interpreter": {
   "hash": "15e1429265b09645c6a4168dd141ccc408720e8952e5bec305f5c51b332eaa71"
  },
  "kernelspec": {
   "display_name": "Python 3 (ipykernel)",
   "language": "python",
   "name": "python3"
  },
  "language_info": {
   "codemirror_mode": {
    "name": "ipython",
    "version": 3
   },
   "file_extension": ".py",
   "mimetype": "text/x-python",
   "name": "python",
   "nbconvert_exporter": "python",
   "pygments_lexer": "ipython3",
   "version": "3.9.7"
  }
 },
 "nbformat": 4,
 "nbformat_minor": 2
}
