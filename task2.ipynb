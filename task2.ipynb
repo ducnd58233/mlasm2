{
 "cells": [
  {
   "cell_type": "code",
   "execution_count": 1,
   "metadata": {},
   "outputs": [
    {
     "name": "stderr",
     "output_type": "stream",
     "text": [
      "c:\\Users\\Admin\\anaconda3\\envs\\mlasm2\\lib\\site-packages\\tqdm\\auto.py:22: TqdmWarning: IProgress not found. Please update jupyter and ipywidgets. See https://ipywidgets.readthedocs.io/en/stable/user_install.html\n",
      "  from .autonotebook import tqdm as notebook_tqdm\n"
     ]
    }
   ],
   "source": [
    "import numpy as np\n",
    "import matplotlib.pyplot as plt\n",
    "from sklearn.model_selection import train_test_split\n",
    "import pandas as pd\n",
    "import os, sys\n",
    "import random\n",
    "\n",
    "import torch\n",
    "import torch.nn as nn\n",
    "from torch.utils.data import Dataset, DataLoader\n",
    "import torch.optim as optim\n",
    "import torch.nn.functional as F"
   ]
  },
  {
   "cell_type": "code",
   "execution_count": 2,
   "metadata": {},
   "outputs": [],
   "source": [
    "SEED = 4321\n",
    "random.seed(SEED)\n",
    "np.random.seed(SEED)\n",
    "torch.manual_seed(SEED)\n",
    "torch.cuda.manual_seed(SEED)\n",
    "torch.backends.cudnn.deterministic = True"
   ]
  },
  {
   "cell_type": "code",
   "execution_count": 3,
   "metadata": {},
   "outputs": [],
   "source": [
    "main = pd.read_csv(\"data_labels_mainData.csv\")\n",
    "extra = pd.read_csv(\"data_labels_extraData.csv\")"
   ]
  },
  {
   "cell_type": "code",
   "execution_count": 4,
   "metadata": {},
   "outputs": [
    {
     "name": "stdout",
     "output_type": "stream",
     "text": [
      "main file shape: (9896, 6)\n",
      "extra file shape: (10384, 4)\n"
     ]
    }
   ],
   "source": [
    "print(f'main file shape: {main.shape}')\n",
    "print(f'extra file shape: {extra.shape}')"
   ]
  },
  {
   "cell_type": "code",
   "execution_count": 5,
   "metadata": {},
   "outputs": [],
   "source": [
    "LEARNING_RATE = 1e-4\n",
    "TRAIN_BATCH_SIZE = 64\n",
    "VAL_BATCH_SIZE = 64\n",
    "NUM_WORKERS = 4\n",
    "EPOCHS = 10\n",
    "NUM_CLASSES = len(main['cellType'].unique())\n",
    "IN_CHANNELS = 3\n",
    "DEVICE = torch.device(\"cuda\") if torch.cuda.is_available() else torch.device(\"cpu\")\n",
    "EARLY_STOPPING = 3"
   ]
  },
  {
   "cell_type": "markdown",
   "metadata": {},
   "source": [
    "# Supervised Model (VGG8)"
   ]
  },
  {
   "cell_type": "code",
   "execution_count": 6,
   "metadata": {},
   "outputs": [],
   "source": [
    "from utils.MyDataset import MyDataset\n",
    "\n",
    "train_imgs, val_imgs = train_test_split(main, test_size=0.2)\n",
    "\n",
    "train_dataset = MyDataset(train_imgs, 'cellType')\n",
    "val_dataset = MyDataset(val_imgs, 'cellType')\n",
    "test_dataset = MyDataset(extra, '')\n",
    "\n",
    "train_loader = DataLoader(\n",
    "    dataset = train_dataset,\n",
    "    num_workers = NUM_WORKERS,\n",
    "    batch_size = TRAIN_BATCH_SIZE,\n",
    "    shuffle = True\n",
    ")\n",
    "\n",
    "val_loader = DataLoader(\n",
    "    dataset = val_dataset,\n",
    "    num_workers = NUM_WORKERS,\n",
    "    batch_size = VAL_BATCH_SIZE,\n",
    "    shuffle = True\n",
    ")\n",
    "\n",
    "test_loader = DataLoader(\n",
    "    dataset = test_dataset,\n",
    "    num_workers = NUM_WORKERS,\n",
    "    batch_size = 1,\n",
    "    shuffle = True\n",
    ")"
   ]
  },
  {
   "cell_type": "code",
   "execution_count": 7,
   "metadata": {},
   "outputs": [
    {
     "name": "stdout",
     "output_type": "stream",
     "text": [
      "Epoch 1:\n"
     ]
    },
    {
     "name": "stderr",
     "output_type": "stream",
     "text": [
      "Train: 100%|██████████| 124/124 [00:39<00:00,  3.15batch/s, loss: 0.807060, accuracy: 63.188480% [5002/7916]]\n",
      "Val: 100%|██████████| 31/31 [00:10<00:00,  2.83batch/s, loss: 0.661793, accuracy: 70.252525% [1391/1980]]\n"
     ]
    },
    {
     "name": "stdout",
     "output_type": "stream",
     "text": [
      "New best validation accuracy: 70.252525, add to d:\\RMIT\\MachineLearning\\Asm\\Asm2\\Image_classification_data/model_saved/vgg8_bn_supervised_test2_best.pth\n",
      "Epoch 2:\n"
     ]
    },
    {
     "name": "stderr",
     "output_type": "stream",
     "text": [
      "Train: 100%|██████████| 124/124 [00:35<00:00,  3.48batch/s, loss: 0.844073, accuracy: 74.279938% [5880/7916]]\n",
      "Val: 100%|██████████| 31/31 [00:10<00:00,  2.87batch/s, loss: 0.532359, accuracy: 74.696968% [1479/1980]]\n"
     ]
    },
    {
     "name": "stdout",
     "output_type": "stream",
     "text": [
      "New best validation accuracy: 74.696968, add to d:\\RMIT\\MachineLearning\\Asm\\Asm2\\Image_classification_data/model_saved/vgg8_bn_supervised_test2_best.pth\n",
      "Epoch 3:\n"
     ]
    },
    {
     "name": "stderr",
     "output_type": "stream",
     "text": [
      "Train: 100%|██████████| 124/124 [00:35<00:00,  3.46batch/s, loss: 0.609835, accuracy: 77.627586% [6145/7916]]\n",
      "Val: 100%|██████████| 31/31 [00:10<00:00,  2.87batch/s, loss: 0.474427, accuracy: 76.313133% [1511/1980]]\n"
     ]
    },
    {
     "name": "stdout",
     "output_type": "stream",
     "text": [
      "New best validation accuracy: 76.313133, add to d:\\RMIT\\MachineLearning\\Asm\\Asm2\\Image_classification_data/model_saved/vgg8_bn_supervised_test2_best.pth\n",
      "Epoch 4:\n"
     ]
    },
    {
     "name": "stderr",
     "output_type": "stream",
     "text": [
      "Train: 100%|██████████| 124/124 [00:36<00:00,  3.42batch/s, loss: 0.474470, accuracy: 80.419403% [6366/7916]]\n",
      "Val: 100%|██████████| 31/31 [00:10<00:00,  2.84batch/s, loss: 0.718834, accuracy: 76.767677% [1520/1980]]\n"
     ]
    },
    {
     "name": "stdout",
     "output_type": "stream",
     "text": [
      "New best validation accuracy: 76.767677, add to d:\\RMIT\\MachineLearning\\Asm\\Asm2\\Image_classification_data/model_saved/vgg8_bn_supervised_test2_best.pth\n",
      "Epoch 5:\n"
     ]
    },
    {
     "name": "stderr",
     "output_type": "stream",
     "text": [
      "Train: 100%|██████████| 124/124 [00:36<00:00,  3.36batch/s, loss: 0.358427, accuracy: 84.057602% [6654/7916]]\n",
      "Val: 100%|██████████| 31/31 [00:11<00:00,  2.81batch/s, loss: 0.634690, accuracy: 77.373741% [1532/1980]]\n"
     ]
    },
    {
     "name": "stdout",
     "output_type": "stream",
     "text": [
      "New best validation accuracy: 77.373741, add to d:\\RMIT\\MachineLearning\\Asm\\Asm2\\Image_classification_data/model_saved/vgg8_bn_supervised_test2_best.pth\n",
      "Epoch 6:\n"
     ]
    },
    {
     "name": "stderr",
     "output_type": "stream",
     "text": [
      "Train: 100%|██████████| 124/124 [00:37<00:00,  3.32batch/s, loss: 0.498256, accuracy: 86.419907% [6841/7916]]\n",
      "Val: 100%|██████████| 31/31 [00:10<00:00,  2.84batch/s, loss: 0.557607, accuracy: 75.151512% [1488/1980]]\n"
     ]
    },
    {
     "name": "stdout",
     "output_type": "stream",
     "text": [
      "Epoch 7:\n"
     ]
    },
    {
     "name": "stderr",
     "output_type": "stream",
     "text": [
      "Train: 100%|██████████| 124/124 [00:38<00:00,  3.21batch/s, loss: 0.262164, accuracy: 90.133904% [7135/7916]]\n",
      "Val: 100%|██████████| 31/31 [00:11<00:00,  2.80batch/s, loss: 0.624260, accuracy: 77.070709% [1526/1980]]\n"
     ]
    },
    {
     "name": "stdout",
     "output_type": "stream",
     "text": [
      "Epoch 8:\n"
     ]
    },
    {
     "name": "stderr",
     "output_type": "stream",
     "text": [
      "Train: 100%|██████████| 124/124 [00:38<00:00,  3.26batch/s, loss: 0.184308, accuracy: 92.799393% [7346/7916]]\n",
      "Val: 100%|██████████| 31/31 [00:10<00:00,  2.84batch/s, loss: 0.739323, accuracy: 73.282829% [1451/1980]]\n"
     ]
    }
   ],
   "source": [
    "from utils.trainer import train, val\n",
    "from models.VGG import vgg8_bn\n",
    "\n",
    "vgg8_bn = vgg8_bn(num_classes=NUM_CLASSES, in_channels=IN_CHANNELS)\n",
    "loss_fn = nn.CrossEntropyLoss()\n",
    "optimizer = torch.optim.Adam(vgg8_bn.parameters(), lr=LEARNING_RATE)\n",
    "\n",
    "# Logs - Helpful for plotting after training finishes\n",
    "vgg8_bn_train_logs = {'loss' : [], 'accuracy' : [], 'epoch' : []}\n",
    "vgg8_bn_val_logs = {'loss' : [], 'accuracy' : [], 'epoch' : []}\n",
    "vgg8_bn_best_val_acc = 0.0\n",
    "prev_vgg8_bn_best_val_acc = 0.0\n",
    "unchange_val_acc_count = 0\n",
    "\n",
    "for epoch in range(1, EPOCHS + 1):\n",
    "    print(f\"Epoch {epoch}:\")\n",
    "    train_loss, train_acc = train(vgg8_bn, train_loader, optimizer, loss_fn, NUM_CLASSES)\n",
    "    vgg8_bn_train_logs['loss'].append(train_loss)\n",
    "    vgg8_bn_train_logs['accuracy'].append(train_acc)\n",
    "    vgg8_bn_train_logs['epoch'].append(epoch)\n",
    "    \n",
    "    prev_vgg8_bn_best_val_acc = vgg8_bn_best_val_acc\n",
    "    val_loss, val_acc, vgg8_bn_best_val_acc = val(vgg8_bn, val_loader, loss_fn, NUM_CLASSES, vgg8_bn_best_val_acc, 'vgg8_bn_supervised_test2')\n",
    "    vgg8_bn_val_logs['loss'].append(val_loss)\n",
    "    vgg8_bn_val_logs['accuracy'].append(val_acc)\n",
    "    vgg8_bn_val_logs['epoch'].append(epoch)\n",
    "    \n",
    "    # Check if best validation accuracy unchange in EARLY_STOPPING times, it will stop training\n",
    "    if prev_vgg8_bn_best_val_acc == vgg8_bn_best_val_acc:\n",
    "        unchange_val_acc_count += 1\n",
    "    else:\n",
    "        unchange_val_acc_count = 0\n",
    "        \n",
    "    if unchange_val_acc_count == EARLY_STOPPING:\n",
    "        break\n",
    "            \n",
    "    "
   ]
  },
  {
   "cell_type": "code",
   "execution_count": 8,
   "metadata": {},
   "outputs": [
    {
     "data": {
      "image/png": "[encoded data removed]",
      "text/plain": [
       "<Figure size 720x360 with 1 Axes>"
      ]
     },
     "metadata": {
      "needs_background": "light"
     },
     "output_type": "display_data"
    }
   ],
   "source": [
    "from utils.visualizer import visualize_accuracy, visualize_loss\n",
    "\n",
    "visualize_accuracy(vgg8_bn_train_logs['accuracy'], vgg8_bn_val_logs['accuracy'])"
   ]
  },
  {
   "cell_type": "code",
   "execution_count": 9,
   "metadata": {},
   "outputs": [
    {
     "data": {
      "image/png": "[encoded data removed]",
      "text/plain": [
       "<Figure size 720x360 with 1 Axes>"
      ]
     },
     "metadata": {
      "needs_background": "light"
     },
     "output_type": "display_data"
    }
   ],
   "source": [
    "visualize_loss(vgg8_bn_train_logs['loss'], vgg8_bn_val_logs['loss'])"
   ]
  },
  {
   "cell_type": "markdown",
   "metadata": {},
   "source": [
    "# Supervised Model (ResNet10)"
   ]
  },
  {
   "cell_type": "code",
   "execution_count": 10,
   "metadata": {},
   "outputs": [],
   "source": [
    "from utils.MyDataset import MyDataset\n",
    "\n",
    "train_imgs, val_imgs = train_test_split(main, test_size=0.2)\n",
    "\n",
    "train_dataset = MyDataset(train_imgs, 'cellType')\n",
    "val_dataset = MyDataset(val_imgs, 'cellType')\n",
    "test_dataset = MyDataset(extra, '')\n",
    "\n",
    "train_loader = DataLoader(\n",
    "    dataset = train_dataset,\n",
    "    num_workers = NUM_WORKERS,\n",
    "    batch_size = TRAIN_BATCH_SIZE,\n",
    "    shuffle = True\n",
    ")\n",
    "\n",
    "val_loader = DataLoader(\n",
    "    dataset = val_dataset,\n",
    "    num_workers = NUM_WORKERS,\n",
    "    batch_size = VAL_BATCH_SIZE,\n",
    "    shuffle = True\n",
    ")\n",
    "\n",
    "test_loader = DataLoader(\n",
    "    dataset = test_dataset,\n",
    "    num_workers = NUM_WORKERS,\n",
    "    batch_size = 1,\n",
    "    shuffle = True\n",
    ")\n"
   ]
  },
  {
   "cell_type": "code",
   "execution_count": 11,
   "metadata": {},
   "outputs": [
    {
     "name": "stdout",
     "output_type": "stream",
     "text": [
      "Epoch 1:\n"
     ]
    },
    {
     "name": "stderr",
     "output_type": "stream",
     "text": [
      "Train: 100%|██████████| 124/124 [00:46<00:00,  2.66batch/s, loss: 0.628412, accuracy: 69.441635% [5497/7916]]\n",
      "Val: 100%|██████████| 31/31 [00:09<00:00,  3.21batch/s, loss: 0.647088, accuracy: 73.282829% [1451/1980]]\n"
     ]
    },
    {
     "name": "stdout",
     "output_type": "stream",
     "text": [
      "New best validation accuracy: 73.282829, add to d:\\RMIT\\MachineLearning\\Asm\\Asm2\\Image_classification_data/model_saved/resnet10_supervised_test2_best.pth\n",
      "Epoch 2:\n"
     ]
    },
    {
     "name": "stderr",
     "output_type": "stream",
     "text": [
      "Train: 100%|██████████| 124/124 [00:45<00:00,  2.71batch/s, loss: 0.518324, accuracy: 79.648811% [6305/7916]]\n",
      "Val: 100%|██████████| 31/31 [00:11<00:00,  2.65batch/s, loss: 0.818896, accuracy: 71.363640% [1413/1980]]\n"
     ]
    },
    {
     "name": "stdout",
     "output_type": "stream",
     "text": [
      "Epoch 3:\n"
     ]
    },
    {
     "name": "stderr",
     "output_type": "stream",
     "text": [
      "Train: 100%|██████████| 124/124 [01:16<00:00,  1.63batch/s, loss: 0.444518, accuracy: 84.676605% [6703/7916]]\n",
      "Val: 100%|██████████| 31/31 [00:18<00:00,  1.69batch/s, loss: 0.802500, accuracy: 69.898987% [1384/1980]]\n"
     ]
    },
    {
     "name": "stdout",
     "output_type": "stream",
     "text": [
      "Epoch 4:\n"
     ]
    },
    {
     "name": "stderr",
     "output_type": "stream",
     "text": [
      "Train: 100%|██████████| 124/124 [01:20<00:00,  1.53batch/s, loss: 0.270606, accuracy: 90.576050% [7170/7916]]\n",
      "Val: 100%|██████████| 31/31 [00:15<00:00,  2.03batch/s, loss: 0.792403, accuracy: 73.737373% [1460/1980]]\n"
     ]
    },
    {
     "name": "stdout",
     "output_type": "stream",
     "text": [
      "New best validation accuracy: 73.737373, add to d:\\RMIT\\MachineLearning\\Asm\\Asm2\\Image_classification_data/model_saved/resnet10_supervised_test2_best.pth\n",
      "Epoch 5:\n"
     ]
    },
    {
     "name": "stderr",
     "output_type": "stream",
     "text": [
      "Train: 100%|██████████| 124/124 [01:12<00:00,  1.72batch/s, loss: 0.266944, accuracy: 93.494186% [7401/7916]]\n",
      "Val: 100%|██████████| 31/31 [00:14<00:00,  2.07batch/s, loss: 1.181960, accuracy: 65.656563% [1300/1980]]\n"
     ]
    },
    {
     "name": "stdout",
     "output_type": "stream",
     "text": [
      "Epoch 6:\n"
     ]
    },
    {
     "name": "stderr",
     "output_type": "stream",
     "text": [
      "Train: 100%|██████████| 124/124 [01:01<00:00,  2.00batch/s, loss: 0.238825, accuracy: 96.791306% [7662/7916]]\n",
      "Val: 100%|██████████| 31/31 [00:11<00:00,  2.63batch/s, loss: 0.756805, accuracy: 74.090912% [1467/1980]]\n"
     ]
    },
    {
     "name": "stdout",
     "output_type": "stream",
     "text": [
      "New best validation accuracy: 74.090912, add to d:\\RMIT\\MachineLearning\\Asm\\Asm2\\Image_classification_data/model_saved/resnet10_supervised_test2_best.pth\n",
      "Epoch 7:\n"
     ]
    },
    {
     "name": "stderr",
     "output_type": "stream",
     "text": [
      "Train: 100%|██████████| 124/124 [01:08<00:00,  1.82batch/s, loss: 0.056375, accuracy: 98.383018% [7788/7916]]\n",
      "Val: 100%|██████████| 31/31 [00:12<00:00,  2.46batch/s, loss: 0.640425, accuracy: 68.989899% [1366/1980]]\n"
     ]
    },
    {
     "name": "stdout",
     "output_type": "stream",
     "text": [
      "Epoch 8:\n"
     ]
    },
    {
     "name": "stderr",
     "output_type": "stream",
     "text": [
      "Train: 100%|██████████| 124/124 [01:06<00:00,  1.86batch/s, loss: 0.034939, accuracy: 99.153610% [7849/7916]]\n",
      "Val: 100%|██████████| 31/31 [00:12<00:00,  2.41batch/s, loss: 0.518628, accuracy: 73.989899% [1465/1980]]\n"
     ]
    },
    {
     "name": "stdout",
     "output_type": "stream",
     "text": [
      "Epoch 9:\n"
     ]
    },
    {
     "name": "stderr",
     "output_type": "stream",
     "text": [
      "Train: 100%|██████████| 124/124 [01:03<00:00,  1.94batch/s, loss: 0.056948, accuracy: 99.178879% [7851/7916]]\n",
      "Val: 100%|██████████| 31/31 [00:14<00:00,  2.16batch/s, loss: 1.270135, accuracy: 74.848488% [1482/1980]]\n"
     ]
    },
    {
     "name": "stdout",
     "output_type": "stream",
     "text": [
      "New best validation accuracy: 74.848488, add to d:\\RMIT\\MachineLearning\\Asm\\Asm2\\Image_classification_data/model_saved/resnet10_supervised_test2_best.pth\n",
      "Epoch 10:\n"
     ]
    },
    {
     "name": "stderr",
     "output_type": "stream",
     "text": [
      "Train: 100%|██████████| 124/124 [01:03<00:00,  1.94batch/s, loss: 0.042694, accuracy: 99.431534% [7871/7916]]\n",
      "Val: 100%|██████████| 31/31 [00:13<00:00,  2.38batch/s, loss: 0.870053, accuracy: 74.898987% [1483/1980]]"
     ]
    },
    {
     "name": "stdout",
     "output_type": "stream",
     "text": [
      "New best validation accuracy: 74.898987, add to d:\\RMIT\\MachineLearning\\Asm\\Asm2\\Image_classification_data/model_saved/resnet10_supervised_test2_best.pth\n"
     ]
    },
    {
     "name": "stderr",
     "output_type": "stream",
     "text": [
      "\n"
     ]
    }
   ],
   "source": [
    "from utils.trainer import train, val\n",
    "from models.ResNet import resnet10\n",
    "\n",
    "resnet10 = resnet10(num_classes=NUM_CLASSES, num_channels=IN_CHANNELS)\n",
    "loss_fn = nn.CrossEntropyLoss()\n",
    "optimizer = torch.optim.Adam(resnet10.parameters(), lr=LEARNING_RATE)\n",
    "\n",
    "# Logs - Helpful for plotting after training finishes\n",
    "resnet10_train_logs = {'loss' : [], 'accuracy' : [], 'epoch' : []}\n",
    "resnet10_val_logs = {'loss' : [], 'accuracy' : [], 'epoch' : []}\n",
    "resnet10_best_val_acc = 0.0\n",
    "prev_resnet10_best_val_acc = 0.0\n",
    "EARLY_STOPPING = 3\n",
    "\n",
    "for epoch in range(1, EPOCHS + 1):\n",
    "    print(f\"Epoch {epoch}:\")\n",
    "    train_loss, train_acc = train(resnet10, train_loader, optimizer, loss_fn, NUM_CLASSES)\n",
    "    resnet10_train_logs['loss'].append(train_loss)\n",
    "    resnet10_train_logs['accuracy'].append(train_acc)\n",
    "    resnet10_train_logs['epoch'].append(epoch)\n",
    "    \n",
    "    prev_resnet10_best_val_acc = resnet10_best_val_acc\n",
    "    val_loss, val_acc, resnet10_best_val_acc = val(resnet10, val_loader, loss_fn, NUM_CLASSES, resnet10_best_val_acc, 'resnet10_supervised_test2')\n",
    "    resnet10_val_logs['loss'].append(val_loss)\n",
    "    resnet10_val_logs['accuracy'].append(val_acc)\n",
    "    resnet10_val_logs['epoch'].append(epoch)\n",
    "    \n",
    "    # Check if best validation accuracy unchange in EARLY_STOPPING times, it will stop training\n",
    "    if prev_resnet10_best_val_acc == resnet10_best_val_acc:\n",
    "        unchange_val_acc_count += 1\n",
    "    else:\n",
    "        unchange_val_acc_count = 0\n",
    "        \n",
    "    if unchange_val_acc_count == EARLY_STOPPING:\n",
    "        break"
   ]
  },
  {
   "cell_type": "code",
   "execution_count": 12,
   "metadata": {},
   "outputs": [
    {
     "data": {
      "image/png": "[encoded data removed]",
      "text/plain": [
       "<Figure size 720x360 with 1 Axes>"
      ]
     },
     "metadata": {
      "needs_background": "light"
     },
     "output_type": "display_data"
    }
   ],
   "source": [
    "from utils.visualizer import visualize_accuracy, visualize_loss\n",
    "\n",
    "visualize_accuracy(resnet10_train_logs['accuracy'], resnet10_val_logs['accuracy'])"
   ]
  },
  {
   "cell_type": "code",
   "execution_count": 13,
   "metadata": {},
   "outputs": [
    {
     "data": {
      "image/png": "[encoded data removed]",
      "text/plain": [
       "<Figure size 720x360 with 1 Axes>"
      ]
     },
     "metadata": {
      "needs_background": "light"
     },
     "output_type": "display_data"
    }
   ],
   "source": [
    "visualize_loss(resnet10_train_logs['loss'], resnet10_val_logs['loss'])"
   ]
  },
  {
   "cell_type": "markdown",
   "metadata": {},
   "source": [
    "# Pseudo-Labeling "
   ]
  },
  {
   "cell_type": "code",
   "execution_count": 14,
   "metadata": {},
   "outputs": [],
   "source": [
    "LEARNING_RATE = 1e-4\n",
    "TRAIN_BATCH_SIZE = 64\n",
    "VAL_BATCH_SIZE = 64\n",
    "NUM_WORKERS = 4\n",
    "EPOCHS = 10\n",
    "NUM_CLASSES = len(main['cellType'].unique())\n",
    "IN_CHANNELS = 3\n",
    "DEVICE = torch.device(\"cuda\") if torch.cuda.is_available() else torch.device(\"cpu\")\n",
    "EARLY_STOPPING = 3"
   ]
  },
  {
   "cell_type": "code",
   "execution_count": 24,
   "metadata": {},
   "outputs": [
    {
     "name": "stdout",
     "output_type": "stream",
     "text": [
      "Choosing model: d:\\RMIT\\MachineLearning\\Asm\\Asm2\\Image_classification_data/model_saved/vgg8_bn_supervised_test2_best.pth\n"
     ]
    },
    {
     "name": "stderr",
     "output_type": "stream",
     "text": [
      "Test: 100%|██████████| 10384/10384 [02:29<00:00, 69.28batch/s]\n"
     ]
    },
    {
     "data": {
      "text/html": [
       "<div>\n",
       "<style scoped>\n",
       "    .dataframe tbody tr th:only-of-type {\n",
       "        vertical-align: middle;\n",
       "    }\n",
       "\n",
       "    .dataframe tbody tr th {\n",
       "        vertical-align: top;\n",
       "    }\n",
       "\n",
       "    .dataframe thead th {\n",
       "        text-align: right;\n",
       "    }\n",
       "</style>\n",
       "<table border=\"1\" class=\"dataframe\">\n",
       "  <thead>\n",
       "    <tr style=\"text-align: right;\">\n",
       "      <th></th>\n",
       "      <th>InstanceID</th>\n",
       "      <th>patientID</th>\n",
       "      <th>ImageName</th>\n",
       "      <th>isCancerous</th>\n",
       "      <th>cellType</th>\n",
       "    </tr>\n",
       "  </thead>\n",
       "  <tbody>\n",
       "    <tr>\n",
       "      <th>0</th>\n",
       "      <td>12681</td>\n",
       "      <td>61</td>\n",
       "      <td>12681.png</td>\n",
       "      <td>0</td>\n",
       "      <td>2</td>\n",
       "    </tr>\n",
       "    <tr>\n",
       "      <th>1</th>\n",
       "      <td>12682</td>\n",
       "      <td>61</td>\n",
       "      <td>12682.png</td>\n",
       "      <td>0</td>\n",
       "      <td>1</td>\n",
       "    </tr>\n",
       "    <tr>\n",
       "      <th>2</th>\n",
       "      <td>12683</td>\n",
       "      <td>61</td>\n",
       "      <td>12683.png</td>\n",
       "      <td>0</td>\n",
       "      <td>2</td>\n",
       "    </tr>\n",
       "    <tr>\n",
       "      <th>3</th>\n",
       "      <td>12684</td>\n",
       "      <td>61</td>\n",
       "      <td>12684.png</td>\n",
       "      <td>0</td>\n",
       "      <td>0</td>\n",
       "    </tr>\n",
       "    <tr>\n",
       "      <th>4</th>\n",
       "      <td>12685</td>\n",
       "      <td>61</td>\n",
       "      <td>12685.png</td>\n",
       "      <td>0</td>\n",
       "      <td>0</td>\n",
       "    </tr>\n",
       "    <tr>\n",
       "      <th>...</th>\n",
       "      <td>...</td>\n",
       "      <td>...</td>\n",
       "      <td>...</td>\n",
       "      <td>...</td>\n",
       "      <td>...</td>\n",
       "    </tr>\n",
       "    <tr>\n",
       "      <th>10379</th>\n",
       "      <td>20028</td>\n",
       "      <td>99</td>\n",
       "      <td>20028.png</td>\n",
       "      <td>0</td>\n",
       "      <td>0</td>\n",
       "    </tr>\n",
       "    <tr>\n",
       "      <th>10380</th>\n",
       "      <td>20029</td>\n",
       "      <td>99</td>\n",
       "      <td>20029.png</td>\n",
       "      <td>0</td>\n",
       "      <td>1</td>\n",
       "    </tr>\n",
       "    <tr>\n",
       "      <th>10381</th>\n",
       "      <td>20030</td>\n",
       "      <td>99</td>\n",
       "      <td>20030.png</td>\n",
       "      <td>0</td>\n",
       "      <td>1</td>\n",
       "    </tr>\n",
       "    <tr>\n",
       "      <th>10382</th>\n",
       "      <td>20031</td>\n",
       "      <td>99</td>\n",
       "      <td>20031.png</td>\n",
       "      <td>0</td>\n",
       "      <td>0</td>\n",
       "    </tr>\n",
       "    <tr>\n",
       "      <th>10383</th>\n",
       "      <td>20032</td>\n",
       "      <td>99</td>\n",
       "      <td>20032.png</td>\n",
       "      <td>0</td>\n",
       "      <td>2</td>\n",
       "    </tr>\n",
       "  </tbody>\n",
       "</table>\n",
       "<p>10384 rows × 5 columns</p>\n",
       "</div>"
      ],
      "text/plain": [
       "       InstanceID  patientID  ImageName  isCancerous  cellType\n",
       "0           12681         61  12681.png            0         2\n",
       "1           12682         61  12682.png            0         1\n",
       "2           12683         61  12683.png            0         2\n",
       "3           12684         61  12684.png            0         0\n",
       "4           12685         61  12685.png            0         0\n",
       "...           ...        ...        ...          ...       ...\n",
       "10379       20028         99  20028.png            0         0\n",
       "10380       20029         99  20029.png            0         1\n",
       "10381       20030         99  20030.png            0         1\n",
       "10382       20031         99  20031.png            0         0\n",
       "10383       20032         99  20032.png            0         2\n",
       "\n",
       "[10384 rows x 5 columns]"
      ]
     },
     "execution_count": 24,
     "metadata": {},
     "output_type": "execute_result"
    }
   ],
   "source": [
    "from utils.trainer import test\n",
    "from models.ResNet import resnet10\n",
    "from models.VGG import vgg8_bn\n",
    "\n",
    "loss_fn = nn.CrossEntropyLoss()\n",
    "\n",
    "filepath = os.getcwd() + '/model_saved/'\n",
    "model_name = filepath\n",
    "model = None\n",
    "saved = None\n",
    "best_val_acc = 0\n",
    "\n",
    "\n",
    "if resnet10_best_val_acc > vgg8_bn_best_val_acc:\n",
    "    model_name += 'resnet10_supervised_test2_best.pth'\n",
    "    model = resnet10(num_classes=NUM_CLASSES, num_channels=IN_CHANNELS)\n",
    "    model.load_state_dict(torch.load(model_name)['model_state_dict'])\n",
    "    best_val_acc = torch.load(model_name)['best_val_acc']\n",
    "else:\n",
    "    model_name += 'vgg8_bn_supervised_test2_best.pth'\n",
    "    model = vgg8_bn(num_classes=NUM_CLASSES, in_channels=IN_CHANNELS)  \n",
    "    model.load_state_dict(torch.load(model_name)['model_state_dict'])\n",
    "    best_val_acc = torch.load(model_name)['best_val_acc']\n",
    "\n",
    "\n",
    "print(f'Choosing model: {model_name}')\n",
    "y_pred = test(model, test_loader, loss_fn, NUM_CLASSES)\n",
    "extra['cellType'] = y_pred\n",
    "extra\n",
    "\n"
   ]
  },
  {
   "cell_type": "markdown",
   "metadata": {},
   "source": [
    "> Merged mainData with extraData (pseudo label) and feed to model again to learn"
   ]
  },
  {
   "cell_type": "code",
   "execution_count": 25,
   "metadata": {},
   "outputs": [
    {
     "data": {
      "text/html": [
       "<div>\n",
       "<style scoped>\n",
       "    .dataframe tbody tr th:only-of-type {\n",
       "        vertical-align: middle;\n",
       "    }\n",
       "\n",
       "    .dataframe tbody tr th {\n",
       "        vertical-align: top;\n",
       "    }\n",
       "\n",
       "    .dataframe thead th {\n",
       "        text-align: right;\n",
       "    }\n",
       "</style>\n",
       "<table border=\"1\" class=\"dataframe\">\n",
       "  <thead>\n",
       "    <tr style=\"text-align: right;\">\n",
       "      <th></th>\n",
       "      <th>InstanceID</th>\n",
       "      <th>patientID</th>\n",
       "      <th>ImageName</th>\n",
       "      <th>cellTypeName</th>\n",
       "      <th>cellType</th>\n",
       "      <th>isCancerous</th>\n",
       "    </tr>\n",
       "  </thead>\n",
       "  <tbody>\n",
       "    <tr>\n",
       "      <th>0</th>\n",
       "      <td>22405</td>\n",
       "      <td>1</td>\n",
       "      <td>22405.png</td>\n",
       "      <td>fibroblast</td>\n",
       "      <td>0</td>\n",
       "      <td>0</td>\n",
       "    </tr>\n",
       "    <tr>\n",
       "      <th>1</th>\n",
       "      <td>22406</td>\n",
       "      <td>1</td>\n",
       "      <td>22406.png</td>\n",
       "      <td>fibroblast</td>\n",
       "      <td>0</td>\n",
       "      <td>0</td>\n",
       "    </tr>\n",
       "    <tr>\n",
       "      <th>2</th>\n",
       "      <td>22407</td>\n",
       "      <td>1</td>\n",
       "      <td>22407.png</td>\n",
       "      <td>fibroblast</td>\n",
       "      <td>0</td>\n",
       "      <td>0</td>\n",
       "    </tr>\n",
       "    <tr>\n",
       "      <th>3</th>\n",
       "      <td>22408</td>\n",
       "      <td>1</td>\n",
       "      <td>22408.png</td>\n",
       "      <td>fibroblast</td>\n",
       "      <td>0</td>\n",
       "      <td>0</td>\n",
       "    </tr>\n",
       "    <tr>\n",
       "      <th>4</th>\n",
       "      <td>22409</td>\n",
       "      <td>1</td>\n",
       "      <td>22409.png</td>\n",
       "      <td>fibroblast</td>\n",
       "      <td>0</td>\n",
       "      <td>0</td>\n",
       "    </tr>\n",
       "    <tr>\n",
       "      <th>...</th>\n",
       "      <td>...</td>\n",
       "      <td>...</td>\n",
       "      <td>...</td>\n",
       "      <td>...</td>\n",
       "      <td>...</td>\n",
       "      <td>...</td>\n",
       "    </tr>\n",
       "    <tr>\n",
       "      <th>10379</th>\n",
       "      <td>20028</td>\n",
       "      <td>99</td>\n",
       "      <td>20028.png</td>\n",
       "      <td>NaN</td>\n",
       "      <td>0</td>\n",
       "      <td>0</td>\n",
       "    </tr>\n",
       "    <tr>\n",
       "      <th>10380</th>\n",
       "      <td>20029</td>\n",
       "      <td>99</td>\n",
       "      <td>20029.png</td>\n",
       "      <td>NaN</td>\n",
       "      <td>1</td>\n",
       "      <td>0</td>\n",
       "    </tr>\n",
       "    <tr>\n",
       "      <th>10381</th>\n",
       "      <td>20030</td>\n",
       "      <td>99</td>\n",
       "      <td>20030.png</td>\n",
       "      <td>NaN</td>\n",
       "      <td>1</td>\n",
       "      <td>0</td>\n",
       "    </tr>\n",
       "    <tr>\n",
       "      <th>10382</th>\n",
       "      <td>20031</td>\n",
       "      <td>99</td>\n",
       "      <td>20031.png</td>\n",
       "      <td>NaN</td>\n",
       "      <td>0</td>\n",
       "      <td>0</td>\n",
       "    </tr>\n",
       "    <tr>\n",
       "      <th>10383</th>\n",
       "      <td>20032</td>\n",
       "      <td>99</td>\n",
       "      <td>20032.png</td>\n",
       "      <td>NaN</td>\n",
       "      <td>2</td>\n",
       "      <td>0</td>\n",
       "    </tr>\n",
       "  </tbody>\n",
       "</table>\n",
       "<p>20280 rows × 6 columns</p>\n",
       "</div>"
      ],
      "text/plain": [
       "       InstanceID  patientID  ImageName cellTypeName  cellType  isCancerous\n",
       "0           22405          1  22405.png   fibroblast         0            0\n",
       "1           22406          1  22406.png   fibroblast         0            0\n",
       "2           22407          1  22407.png   fibroblast         0            0\n",
       "3           22408          1  22408.png   fibroblast         0            0\n",
       "4           22409          1  22409.png   fibroblast         0            0\n",
       "...           ...        ...        ...          ...       ...          ...\n",
       "10379       20028         99  20028.png          NaN         0            0\n",
       "10380       20029         99  20029.png          NaN         1            0\n",
       "10381       20030         99  20030.png          NaN         1            0\n",
       "10382       20031         99  20031.png          NaN         0            0\n",
       "10383       20032         99  20032.png          NaN         2            0\n",
       "\n",
       "[20280 rows x 6 columns]"
      ]
     },
     "execution_count": 25,
     "metadata": {},
     "output_type": "execute_result"
    }
   ],
   "source": [
    "data_merged = pd.concat([main, extra], axis=0)\n",
    "data_merged"
   ]
  },
  {
   "cell_type": "code",
   "execution_count": 26,
   "metadata": {},
   "outputs": [],
   "source": [
    "SEED = 6666\n",
    "random.seed(SEED)\n",
    "np.random.seed(SEED)\n",
    "torch.manual_seed(SEED)\n",
    "torch.cuda.manual_seed(SEED)\n",
    "torch.backends.cudnn.deterministic = True"
   ]
  },
  {
   "cell_type": "markdown",
   "metadata": {},
   "source": [
    "## ResNet18"
   ]
  },
  {
   "cell_type": "code",
   "execution_count": 27,
   "metadata": {},
   "outputs": [],
   "source": [
    "from utils.MyDataset import MyDataset\n",
    "\n",
    "train_imgs, val_imgs = train_test_split(data_merged, test_size=0.3)\n",
    "\n",
    "train_dataset = MyDataset(train_imgs, 'cellType')\n",
    "val_dataset = MyDataset(val_imgs, 'cellType')\n",
    "\n",
    "train_loader = DataLoader(\n",
    "    dataset = train_dataset,\n",
    "    num_workers = NUM_WORKERS,\n",
    "    batch_size = TRAIN_BATCH_SIZE * 2,\n",
    "    shuffle = True\n",
    ")\n",
    "\n",
    "val_loader = DataLoader(\n",
    "    dataset = val_dataset,\n",
    "    num_workers = NUM_WORKERS,\n",
    "    batch_size = VAL_BATCH_SIZE * 2,\n",
    "    shuffle = True\n",
    ")"
   ]
  },
  {
   "cell_type": "code",
   "execution_count": 28,
   "metadata": {},
   "outputs": [
    {
     "name": "stdout",
     "output_type": "stream",
     "text": [
      "Epoch 1:\n"
     ]
    },
    {
     "name": "stderr",
     "output_type": "stream",
     "text": [
      "Train: 100%|██████████| 111/111 [03:14<00:00,  1.75s/batch, loss: 1.089580, accuracy: 48.302338% [6857/14196]]\n",
      "Val: 100%|██████████| 48/48 [00:26<00:00,  1.83batch/s, loss: 1.999709, accuracy: 43.014465% [2617/6084]]\n"
     ]
    },
    {
     "name": "stdout",
     "output_type": "stream",
     "text": [
      "New best validation accuracy: 43.014465, add to d:\\RMIT\\MachineLearning\\Asm\\Asm2\\Image_classification_data/model_saved/resnet18_pseudo_label_test2_best.pth\n",
      "Epoch 2:\n"
     ]
    },
    {
     "name": "stderr",
     "output_type": "stream",
     "text": [
      "Train: 100%|██████████| 111/111 [03:18<00:00,  1.79s/batch, loss: 1.132231, accuracy: 53.726402% [7627/14196]]\n",
      "Val: 100%|██████████| 48/48 [00:29<00:00,  1.65batch/s, loss: 1.191372, accuracy: 53.418804% [3250/6084]]\n"
     ]
    },
    {
     "name": "stdout",
     "output_type": "stream",
     "text": [
      "New best validation accuracy: 53.418804, add to d:\\RMIT\\MachineLearning\\Asm\\Asm2\\Image_classification_data/model_saved/resnet18_pseudo_label_test2_best.pth\n",
      "Epoch 3:\n"
     ]
    },
    {
     "name": "stderr",
     "output_type": "stream",
     "text": [
      "Train: 100%|██████████| 111/111 [03:16<00:00,  1.77s/batch, loss: 1.015513, accuracy: 56.332771% [7997/14196]]\n",
      "Val: 100%|██████████| 48/48 [00:27<00:00,  1.76batch/s, loss: 1.154409, accuracy: 53.040764% [3227/6084]]\n"
     ]
    },
    {
     "name": "stdout",
     "output_type": "stream",
     "text": [
      "Epoch 4:\n"
     ]
    },
    {
     "name": "stderr",
     "output_type": "stream",
     "text": [
      "Train: 100%|██████████| 111/111 [02:56<00:00,  1.59s/batch, loss: 1.139502, accuracy: 56.389122% [8005/14196]]\n",
      "Val: 100%|██████████| 48/48 [00:24<00:00,  2.00batch/s, loss: 1.279753, accuracy: 53.829716% [3275/6084]]\n"
     ]
    },
    {
     "name": "stdout",
     "output_type": "stream",
     "text": [
      "New best validation accuracy: 53.829716, add to d:\\RMIT\\MachineLearning\\Asm\\Asm2\\Image_classification_data/model_saved/resnet18_pseudo_label_test2_best.pth\n",
      "Epoch 5:\n"
     ]
    },
    {
     "name": "stderr",
     "output_type": "stream",
     "text": [
      "Train: 100%|██████████| 111/111 [03:10<00:00,  1.72s/batch, loss: 1.045648, accuracy: 57.403496% [8149/14196]]\n",
      "Val: 100%|██████████| 48/48 [00:27<00:00,  1.74batch/s, loss: 1.131180, accuracy: 46.137409% [2807/6084]]\n"
     ]
    },
    {
     "name": "stdout",
     "output_type": "stream",
     "text": [
      "Epoch 6:\n"
     ]
    },
    {
     "name": "stderr",
     "output_type": "stream",
     "text": [
      "Train: 100%|██████████| 111/111 [03:33<00:00,  1.93s/batch, loss: 1.050235, accuracy: 57.776840% [8202/14196]]\n",
      "Val: 100%|██████████| 48/48 [00:23<00:00,  2.02batch/s, loss: 0.978378, accuracy: 55.259697% [3362/6084]]\n"
     ]
    },
    {
     "name": "stdout",
     "output_type": "stream",
     "text": [
      "New best validation accuracy: 55.259697, add to d:\\RMIT\\MachineLearning\\Asm\\Asm2\\Image_classification_data/model_saved/resnet18_pseudo_label_test2_best.pth\n",
      "Epoch 7:\n"
     ]
    },
    {
     "name": "stderr",
     "output_type": "stream",
     "text": [
      "Train: 100%|██████████| 111/111 [03:13<00:00,  1.74s/batch, loss: 1.002039, accuracy: 56.677937% [8046/14196]]\n",
      "Val: 100%|██████████| 48/48 [00:25<00:00,  1.86batch/s, loss: 1.248541, accuracy: 49.441158% [3008/6084]]\n"
     ]
    },
    {
     "name": "stdout",
     "output_type": "stream",
     "text": [
      "Epoch 8:\n"
     ]
    },
    {
     "name": "stderr",
     "output_type": "stream",
     "text": [
      "Train: 100%|██████████| 111/111 [03:15<00:00,  1.76s/batch, loss: 0.972805, accuracy: 57.551422% [8170/14196]]\n",
      "Val: 100%|██████████| 48/48 [00:28<00:00,  1.70batch/s, loss: 1.291133, accuracy: 48.964497% [2979/6084]]\n"
     ]
    },
    {
     "name": "stdout",
     "output_type": "stream",
     "text": [
      "Epoch 9:\n"
     ]
    },
    {
     "name": "stderr",
     "output_type": "stream",
     "text": [
      "Train: 100%|██████████| 111/111 [02:59<00:00,  1.61s/batch, loss: 0.994207, accuracy: 57.903633% [8220/14196]]\n",
      "Val: 100%|██████████| 48/48 [00:26<00:00,  1.84batch/s, loss: 1.052993, accuracy: 55.999344% [3407/6084]]\n"
     ]
    },
    {
     "name": "stdout",
     "output_type": "stream",
     "text": [
      "New best validation accuracy: 55.999344, add to d:\\RMIT\\MachineLearning\\Asm\\Asm2\\Image_classification_data/model_saved/resnet18_pseudo_label_test2_best.pth\n",
      "Epoch 10:\n"
     ]
    },
    {
     "name": "stderr",
     "output_type": "stream",
     "text": [
      "Train: 100%|██████████| 111/111 [02:44<00:00,  1.48s/batch, loss: 0.912316, accuracy: 57.875458% [8216/14196]]\n",
      "Val: 100%|██████████| 48/48 [00:18<00:00,  2.54batch/s, loss: 1.239078, accuracy: 52.366863% [3186/6084]]\n"
     ]
    }
   ],
   "source": [
    "from utils.trainer import train, val\n",
    "from models.ResNet import resnet18\n",
    "\n",
    "resnet18_pseudo_label = resnet18(num_classes=NUM_CLASSES, num_channels=IN_CHANNELS)\n",
    "\n",
    "loss_fn = nn.CrossEntropyLoss()\n",
    "optimizer = torch.optim.Adam(resnet18_pseudo_label.parameters(), lr=0.01)\n",
    "\n",
    "# Logs - Helpful for plotting after training finishes\n",
    "resnet18_pseudo_label_train_logs = {'loss' : [], 'accuracy' : [], 'epoch' : []}\n",
    "resnet18_pseudo_label_val_logs = {'loss' : [], 'accuracy' : [], 'epoch' : []}\n",
    "resnet18_pseudo_label_best_val_acc = 0.0\n",
    "prev_resnet18_pseudo_label_best_val_acc = 0.0\n",
    "unchange_val_acc_count = 0\n",
    "\n",
    "for epoch in range(1, EPOCHS + 1):\n",
    "    print(f\"Epoch {epoch}:\")\n",
    "    train_loss, train_acc = train(resnet18_pseudo_label, train_loader, optimizer, loss_fn, NUM_CLASSES)\n",
    "    resnet18_pseudo_label_train_logs['loss'].append(train_loss)\n",
    "    resnet18_pseudo_label_train_logs['accuracy'].append(train_acc)\n",
    "    resnet18_pseudo_label_train_logs['epoch'].append(epoch)\n",
    "    \n",
    "    prev_resnet18_pseudo_label_best_val_acc = resnet18_pseudo_label_best_val_acc\n",
    "    val_loss, val_acc, resnet18_pseudo_label_best_val_acc = val(resnet18_pseudo_label, val_loader, loss_fn, NUM_CLASSES, resnet18_pseudo_label_best_val_acc, 'resnet18_pseudo_label_test2')\n",
    "    resnet18_pseudo_label_val_logs['loss'].append(val_loss)\n",
    "    resnet18_pseudo_label_val_logs['accuracy'].append(val_acc)\n",
    "    resnet18_pseudo_label_val_logs['epoch'].append(epoch)\n",
    "    \n",
    "    # Check if best validation accuracy unchange in EARLY_STOPPING times, it will stop training\n",
    "    if prev_resnet18_pseudo_label_best_val_acc == resnet18_pseudo_label_best_val_acc:\n",
    "        unchange_val_acc_count += 1\n",
    "    else:\n",
    "        unchange_val_acc_count = 0\n",
    "        \n",
    "    if unchange_val_acc_count == EARLY_STOPPING:\n",
    "        break"
   ]
  },
  {
   "cell_type": "code",
   "execution_count": 29,
   "metadata": {},
   "outputs": [
    {
     "data": {
      "image/png": "[encoded data removed]",
      "text/plain": [
       "<Figure size 720x360 with 1 Axes>"
      ]
     },
     "metadata": {
      "needs_background": "light"
     },
     "output_type": "display_data"
    }
   ],
   "source": [
    "from utils.visualizer import visualize_accuracy, visualize_loss\n",
    "\n",
    "visualize_accuracy(resnet18_pseudo_label_train_logs['accuracy'], resnet18_pseudo_label_val_logs['accuracy'])"
   ]
  },
  {
   "cell_type": "code",
   "execution_count": 30,
   "metadata": {},
   "outputs": [
    {
     "data": {
      "image/png": "[encoded data removed]",
      "text/plain": [
       "<Figure size 720x360 with 1 Axes>"
      ]
     },
     "metadata": {
      "needs_background": "light"
     },
     "output_type": "display_data"
    }
   ],
   "source": [
    "visualize_loss(resnet18_pseudo_label_train_logs['loss'], resnet18_pseudo_label_val_logs['loss'])"
   ]
  },
  {
   "cell_type": "markdown",
   "metadata": {},
   "source": [
    "## VGG16"
   ]
  },
  {
   "cell_type": "code",
   "execution_count": 31,
   "metadata": {},
   "outputs": [],
   "source": [
    "from utils.MyDataset import MyDataset\n",
    "\n",
    "train_imgs, val_imgs = train_test_split(data_merged, test_size=0.3)\n",
    "\n",
    "train_dataset = MyDataset(train_imgs, 'cellType')\n",
    "val_dataset = MyDataset(val_imgs, 'cellType')\n",
    "\n",
    "train_loader = DataLoader(\n",
    "    dataset = train_dataset,\n",
    "    num_workers = NUM_WORKERS,\n",
    "    batch_size = TRAIN_BATCH_SIZE * 2,\n",
    "    shuffle = True\n",
    ")\n",
    "\n",
    "val_loader = DataLoader(\n",
    "    dataset = val_dataset,\n",
    "    num_workers = NUM_WORKERS,\n",
    "    batch_size = VAL_BATCH_SIZE * 2,\n",
    "    shuffle = True\n",
    ")"
   ]
  },
  {
   "cell_type": "code",
   "execution_count": 32,
   "metadata": {},
   "outputs": [
    {
     "name": "stdout",
     "output_type": "stream",
     "text": [
      "Epoch 1:\n"
     ]
    },
    {
     "name": "stderr",
     "output_type": "stream",
     "text": [
      "Train: 100%|██████████| 111/111 [04:44<00:00,  2.57s/batch, loss: 1.224289, accuracy: 42.857143% [6084/14196]]\n",
      "Val: 100%|██████████| 48/48 [00:44<00:00,  1.07batch/s, loss: 1.319339, accuracy: 43.195267% [2628/6084]]\n"
     ]
    },
    {
     "name": "stdout",
     "output_type": "stream",
     "text": [
      "New best validation accuracy: 43.195267, add to d:\\RMIT\\MachineLearning\\Asm\\Asm2\\Image_classification_data/model_saved/vgg16_bn_pseudo_label_test2_best.pth\n",
      "Epoch 2:\n"
     ]
    },
    {
     "name": "stderr",
     "output_type": "stream",
     "text": [
      "Train: 100%|██████████| 111/111 [04:27<00:00,  2.41s/batch, loss: 1.216678, accuracy: 43.716541% [6206/14196]]\n",
      "Val: 100%|██████████| 48/48 [00:47<00:00,  1.00batch/s, loss: 1.153623, accuracy: 43.195267% [2628/6084]]\n"
     ]
    },
    {
     "name": "stdout",
     "output_type": "stream",
     "text": [
      "Epoch 3:\n"
     ]
    },
    {
     "name": "stderr",
     "output_type": "stream",
     "text": [
      "Train: 100%|██████████| 111/111 [04:47<00:00,  2.59s/batch, loss: 1.123586, accuracy: 45.512821% [6461/14196]]\n",
      "Val: 100%|██████████| 48/48 [00:42<00:00,  1.12batch/s, loss: 1.661462, accuracy: 21.038790% [1280/6084]]\n"
     ]
    },
    {
     "name": "stdout",
     "output_type": "stream",
     "text": [
      "Epoch 4:\n"
     ]
    },
    {
     "name": "stderr",
     "output_type": "stream",
     "text": [
      "Train: 100%|██████████| 111/111 [04:19<00:00,  2.34s/batch, loss: 1.133402, accuracy: 48.640461% [6905/14196]]\n",
      "Val: 100%|██████████| 48/48 [00:47<00:00,  1.00batch/s, loss: 1.230480, accuracy: 48.553585% [2954/6084]]\n"
     ]
    },
    {
     "name": "stdout",
     "output_type": "stream",
     "text": [
      "New best validation accuracy: 48.553585, add to d:\\RMIT\\MachineLearning\\Asm\\Asm2\\Image_classification_data/model_saved/vgg16_bn_pseudo_label_test2_best.pth\n",
      "Epoch 5:\n"
     ]
    },
    {
     "name": "stderr",
     "output_type": "stream",
     "text": [
      "Train: 100%|██████████| 111/111 [04:39<00:00,  2.52s/batch, loss: 1.045404, accuracy: 50.514229% [7171/14196]]\n",
      "Val: 100%|██████████| 48/48 [00:44<00:00,  1.08batch/s, loss: 1.082227, accuracy: 51.890205% [3157/6084]]\n"
     ]
    },
    {
     "name": "stdout",
     "output_type": "stream",
     "text": [
      "New best validation accuracy: 51.890205, add to d:\\RMIT\\MachineLearning\\Asm\\Asm2\\Image_classification_data/model_saved/vgg16_bn_pseudo_label_test2_best.pth\n",
      "Epoch 6:\n"
     ]
    },
    {
     "name": "stderr",
     "output_type": "stream",
     "text": [
      "Train: 100%|██████████| 111/111 [04:21<00:00,  2.36s/batch, loss: 1.117260, accuracy: 49.943645% [7090/14196]]\n",
      "Val: 100%|██████████| 48/48 [00:43<00:00,  1.11batch/s, loss: 1.008756, accuracy: 50.378040% [3065/6084]]\n"
     ]
    },
    {
     "name": "stdout",
     "output_type": "stream",
     "text": [
      "Epoch 7:\n"
     ]
    },
    {
     "name": "stderr",
     "output_type": "stream",
     "text": [
      "Train: 100%|██████████| 111/111 [04:06<00:00,  2.22s/batch, loss: 1.130623, accuracy: 50.922794% [7229/14196]]\n",
      "Val: 100%|██████████| 48/48 [00:38<00:00,  1.25batch/s, loss: 1.249695, accuracy: 39.414860% [2398/6084]]\n"
     ]
    },
    {
     "name": "stdout",
     "output_type": "stream",
     "text": [
      "Epoch 8:\n"
     ]
    },
    {
     "name": "stderr",
     "output_type": "stream",
     "text": [
      "Train: 100%|██████████| 111/111 [03:59<00:00,  2.15s/batch, loss: 1.044315, accuracy: 51.084812% [7252/14196]]\n",
      "Val: 100%|██████████| 48/48 [00:41<00:00,  1.16batch/s, loss: 1.096993, accuracy: 49.293228% [2999/6084]]\n"
     ]
    }
   ],
   "source": [
    "from utils.trainer import train, val\n",
    "from models.VGG import vgg16_bn\n",
    "\n",
    "vgg16_bn_pseudo_label = vgg16_bn(num_classes=NUM_CLASSES, in_channels=IN_CHANNELS)\n",
    "\n",
    "loss_fn = nn.CrossEntropyLoss()\n",
    "optimizer = torch.optim.Adam(vgg16_bn_pseudo_label.parameters(), lr=0.01)\n",
    "\n",
    "# Logs - Helpful for plotting after training finishes\n",
    "vgg16_bn_pseudo_label_train_logs = {'loss' : [], 'accuracy' : [], 'epoch' : []}\n",
    "vgg16_bn_pseudo_label_val_logs = {'loss' : [], 'accuracy' : [], 'epoch' : []}\n",
    "vgg16_bn_pseudo_label_best_val_acc = 0.0\n",
    "prev_vgg16_bn_pseudo_label_best_val_acc = 0.0\n",
    "unchange_val_acc_count = 0\n",
    "\n",
    "for epoch in range(1, EPOCHS + 1):\n",
    "    print(f\"Epoch {epoch}:\")\n",
    "    train_loss, train_acc = train(vgg16_bn_pseudo_label, train_loader, optimizer, loss_fn, NUM_CLASSES)\n",
    "    vgg16_bn_pseudo_label_train_logs['loss'].append(train_loss)\n",
    "    vgg16_bn_pseudo_label_train_logs['accuracy'].append(train_acc)\n",
    "    vgg16_bn_pseudo_label_train_logs['epoch'].append(epoch)\n",
    "    \n",
    "    prev_vgg16_bn_pseudo_label_best_val_acc = vgg16_bn_pseudo_label_best_val_acc\n",
    "    val_loss, val_acc, vgg16_bn_pseudo_label_best_val_acc = val(vgg16_bn_pseudo_label, val_loader, loss_fn, NUM_CLASSES, vgg16_bn_pseudo_label_best_val_acc, 'vgg16_bn_pseudo_label_test2')\n",
    "    vgg16_bn_pseudo_label_val_logs['loss'].append(val_loss)\n",
    "    vgg16_bn_pseudo_label_val_logs['accuracy'].append(val_acc)\n",
    "    vgg16_bn_pseudo_label_val_logs['epoch'].append(epoch)\n",
    "    \n",
    "    # Check if best validation accuracy unchange in EARLY_STOPPING times, it will stop training\n",
    "    if prev_vgg16_bn_pseudo_label_best_val_acc == vgg16_bn_pseudo_label_best_val_acc:\n",
    "        unchange_val_acc_count += 1\n",
    "    else:\n",
    "        unchange_val_acc_count = 0\n",
    "        \n",
    "    if unchange_val_acc_count == EARLY_STOPPING:\n",
    "        break"
   ]
  },
  {
   "cell_type": "code",
   "execution_count": 33,
   "metadata": {},
   "outputs": [
    {
     "data": {
      "image/png": "[encoded data removed]",
      "text/plain": [
       "<Figure size 720x360 with 1 Axes>"
      ]
     },
     "metadata": {
      "needs_background": "light"
     },
     "output_type": "display_data"
    }
   ],
   "source": [
    "from utils.visualizer import visualize_accuracy, visualize_loss\n",
    "\n",
    "visualize_accuracy(vgg16_bn_pseudo_label_train_logs['accuracy'], vgg16_bn_pseudo_label_val_logs['accuracy'])"
   ]
  },
  {
   "cell_type": "code",
   "execution_count": 34,
   "metadata": {},
   "outputs": [
    {
     "data": {
      "image/png": "[encoded data removed]",
      "text/plain": [
       "<Figure size 720x360 with 1 Axes>"
      ]
     },
     "metadata": {
      "needs_background": "light"
     },
     "output_type": "display_data"
    }
   ],
   "source": [
    "visualize_loss(vgg16_bn_pseudo_label_train_logs['loss'], vgg16_bn_pseudo_label_val_logs['loss'])"
   ]
  },
  {
   "cell_type": "code",
   "execution_count": null,
   "metadata": {},
   "outputs": [],
   "source": []
  }
 ],
 "metadata": {
  "interpreter": {
   "hash": "15e1429265b09645c6a4168dd141ccc408720e8952e5bec305f5c51b332eaa71"
  },
  "kernelspec": {
   "display_name": "Python 3.9.12 ('mlasm2')",
   "language": "python",
   "name": "python3"
  },
  "language_info": {
   "codemirror_mode": {
    "name": "ipython",
    "version": 3
   },
   "file_extension": ".py",
   "mimetype": "text/x-python",
   "name": "python",
   "nbconvert_exporter": "python",
   "pygments_lexer": "ipython3",
   "version": "3.9.12"
  },
  "orig_nbformat": 4
 },
 "nbformat": 4,
 "nbformat_minor": 2
}
